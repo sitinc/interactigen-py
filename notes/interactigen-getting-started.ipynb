{
 "cells": [
  {
   "cell_type": "markdown",
   "source": [
    "MIT License\n",
    "\n",
    "Copyright (c) 2024 Justin Randall, Smart Interactive Transformations Inc.\n",
    "\n",
    "Permission is hereby granted, free of charge, to any person obtaining a copy\n",
    "of this software and associated documentation files (the \"Software\"), to deal\n",
    "in the Software without restriction, including without limitation the rights\n",
    "to use, copy, modify, merge, publish, distribute, sublicense, and/or sell\n",
    "copies of the Software, and to permit persons to whom the Software is\n",
    "furnished to do so, subject to the following conditions:\n",
    "\n",
    "The above copyright notice and this permission notice shall be included in all\n",
    "copies or substantial portions of the Software.\n",
    "\n",
    "THE SOFTWARE IS PROVIDED \"AS IS\", WITHOUT WARRANTY OF ANY KIND, EXPRESS OR\n",
    "IMPLIED, INCLUDING BUT NOT LIMITED TO THE WARRANTIES OF MERCHANTABILITY,\n",
    "FITNESS FOR A PARTICULAR PURPOSE AND NONINFRINGEMENT. IN NO EVENT SHALL THE\n",
    "AUTHORS OR COPYRIGHT HOLDERS BE LIABLE FOR ANY CLAIM, DAMAGES OR OTHER\n",
    "LIABILITY, WHETHER IN AN ACTION OF CONTRACT, TORT OR OTHERWISE, ARISING FROM,\n",
    "OUT OF OR IN CONNECTION WITH THE SOFTWARE OR THE USE OR OTHER DEALINGS IN THE\n",
    "SOFTWARE."
   ],
   "metadata": {
    "collapsed": false
   },
   "id": "e9a6b35905cf2bad"
  },
  {
   "cell_type": "markdown",
   "source": [
    "# Overview\n",
    "\n",
    "The purpose of this notebook is to serve as basic documentation for using the Interactigen library to generate base and augmented utterance phrases to use with natural language understanding (NLU) intent classification, or with Large Language Model (LLM) fine-tuning.\n",
    "\n",
    "The Interactigen module is built on LangChain.  The decision to use LangChain enables experimenting with various models with minimal code adjustments.  Already have code to load and configure your favourite LangChain ChatModel?  Great!  Let's use that.\n",
    "\n",
    "The output results for each run is a JSON array for downstream use: write to a file, split test/train utterances, and more."
   ],
   "metadata": {
    "collapsed": false
   },
   "id": "5fa6a1d230229fd6"
  },
  {
   "cell_type": "markdown",
   "source": [
    "## Generate Phrase Utterances with OpenAI\n",
    "\n",
    "Here is an example loading the OpenAI gpt-4-0125-preview model for generating the utterances.\n",
    "\n",
    "Make sure you have an environment file with the path *scratch/dev.env* and set the OPENAI_API_KEY and (optionally) LANGCHAIN_API_KEY and LANGCHAIN_PROJECT if you are tracing with LangSmith:\n",
    "```scratch/dev.env:\n",
    "OPENAI_API_KEY=<OpenAI API Key>\n",
    "LANGCHAIN_API_KEY=<LangSmith API Key>\n",
    "LANGCHAIN_PROJECT=<LangSmith Project Name>\n",
    "```"
   ],
   "metadata": {
    "collapsed": false
   },
   "id": "8ccbed34efeeace7"
  },
  {
   "cell_type": "code",
   "outputs": [
    {
     "data": {
      "text/plain": "['Thank you so much for your help!',\n 'I really appreciate your assistance.',\n \"You've been incredibly helpful, thanks!\",\n 'Thanks a lot for the support!',\n 'Much obliged for your help.',\n \"I'm so grateful for your assistance.\",\n 'Your support means a lot, thank you.',\n 'Cheers for the help!',\n \"You're a lifesaver, thanks!\",\n \"I can't thank you enough for your help.\",\n 'Thanks a bunch!',\n 'Really appreciate it.',\n 'Super helpful, thanks!',\n 'Thanks for the support!',\n 'Much obliged!',\n 'So grateful, thanks!',\n 'Support means a lot, thanks!',\n 'Cheers!',\n \"You're a lifesaver!\",\n \"Can't thank you enough!\",\n 'Thanks!',\n 'Appreciated.',\n 'So helpful!',\n 'Thanks a lot!',\n 'Obliged.',\n 'Grateful.',\n 'Supportive, thanks!',\n 'Cheers!',\n 'Lifesaver!',\n \"Can't thank enough!\",\n 'Thank you so much for your help!',\n 'I really appreciate your assistance.',\n \"You've been incredibly helpful, thanks!\",\n 'Thanks a lot for the support!',\n 'Much obliged for your help.',\n \"I'm so grateful for your assistance.\",\n 'Your support means a lot, thank you.',\n 'Cheers for the help!',\n \"You're a lifesaver, thanks!\",\n \"I can't thank you enough for your help.\",\n 'Thanks a bunch!',\n 'Really appreciate it.',\n 'Super helpful, thanks!',\n 'Thanks for the support!',\n 'Much obliged!',\n 'So grateful, thanks!',\n 'Support means a lot, thanks!',\n 'Cheers!',\n \"You're a lifesaver!\",\n \"Can't thank you enough!\",\n 'Thanks!',\n 'Appreciated.',\n 'So helpful!',\n 'Thanks a lot!',\n 'Obliged.',\n 'Grateful.',\n 'Supportive, thanks!',\n 'Cheers!',\n 'Lifesaver!',\n \"Can't thank enough!\",\n \"I'm immensely thankful for your support!\",\n 'I deeply value your help.',\n 'Your assistance has been incredibly valuable, thank you!',\n 'Thank you so much for your aid!',\n 'Greatly indebted for your support.',\n \"I'm very thankful for your help.\",\n 'Your help has been significant, thank you.',\n 'Many thanks for the assistance!',\n \"You've been a great help, thank you!\",\n 'I cannot express my gratitude enough for your support.',\n 'Thank you very much!',\n 'Really value it.',\n 'Extremely useful, thank you!',\n 'Thank you for the aid!',\n 'Deeply indebted!',\n 'Very thankful, thank you!',\n 'Your aid means a lot, thank you!',\n 'Many thanks!',\n \"You've been a great help!\",\n 'Impossible to thank you enough!',\n 'Thank you!',\n 'Valued.',\n 'Very useful!',\n 'Thank you so much!',\n 'Indebted.',\n 'Thankful.',\n 'Aiding, thank you!',\n 'Many thanks!',\n 'Great help!',\n 'Impossible to express my gratitude enough!',\n 'Thank you so much for your help!',\n 'I really appreciate your assistance.',\n \"You've been incredibly helpful, thanks!\",\n 'Thanks a lot for the support!',\n 'Much obliged for your help.',\n \"I'm so grateful for your assistance.\",\n 'Your support means a lot, thank you.',\n 'Cheers for the help!',\n \"You're a lifesaver, thanks!\",\n \"I can't thank you enough for your help.\",\n 'Thanks a bunch!',\n 'Really appreciate it.',\n 'Super helpful, thanks!',\n 'Thanks for the support!',\n 'Much obliged!',\n 'So grateful, thanks!',\n 'Support means a lot, thanks!',\n 'Cheers!',\n \"You're a lifesaver!\",\n \"Can't thank you enough!\",\n 'Thanks!',\n 'Appreciated.',\n 'So helpful!',\n 'Thanks a lot!',\n 'Obliged.',\n 'Grateful.',\n 'Supportive, thanks!',\n 'Cheers!',\n 'Lifesaver!',\n \"Can't thank enough!\",\n 'Tank you so much for your help!',\n 'Eye really appreciate your assistance.',\n \"You've been incredibly helpful, tanks!\",\n 'Thanks allot for the support!',\n 'Much obliged for your halp.',\n \"Aye'm so grateful for your assistance.\",\n 'Your support means allot, thank you.',\n 'Cheers for the halp!',\n \"You're a life saver, thanks!\",\n \"Eye can't thank you enough for your help.\",\n 'Thanks a brunch!',\n 'Really appreciate it.',\n 'Super helpful, tanks!',\n 'Thanks for the support!',\n 'Much obliged!',\n 'So grateful, tanks!',\n 'Support means a lot, thank you!',\n 'Cheers!',\n 'Your a lifesaver!',\n \"Can't tank you enough!\",\n 'Tanks!',\n 'Appreciated.',\n 'So helpful!',\n 'Thanks a lot!',\n 'Obliged.',\n 'Grateful.',\n 'Supportive, tanks!',\n 'Cheers!',\n 'Life saver!',\n \"Can't tank enough!\",\n 'Thank you so much for your help!',\n 'I really appreciate your assistance.',\n \"You've been incredibly helpful, thanks!\",\n 'Thanks a lot for the support!',\n 'Much obliged for your help.',\n \"I'm so grateful for your assistance.\",\n 'Your support means a lot, thank you.',\n 'Cheers for the help!',\n \"You're a lifesaver, thanks!\",\n \"I can't thank you enough for your help.\",\n 'Thanks a bunch!',\n 'Really appreciate it.',\n 'Super helpful, thanks!',\n 'Thanks for the support!',\n 'Much obliged!',\n 'So grateful, thanks!',\n 'Support means a lot, thanks!',\n 'Cheers!',\n \"You're a lifesaver!\",\n \"Can't thank you enough!\",\n 'Thanks!',\n 'Appreciated.',\n 'So helpful!',\n 'Thanks a lot!',\n 'Obliged.',\n 'Grateful.',\n 'Supportive, thanks!',\n 'Cheers!',\n 'Lifesaver!',\n \"Can't thank enough!\",\n 'Tank you so much for your elp!',\n 'I rally appreciate your assistance.',\n \"You've been incredibly elpful, tanks!\",\n 'Tanks a lot for the support!',\n 'Much obliged for your elp.',\n \"I'm so grateful for your assistance.\",\n 'Your support means a lot, tank you.',\n 'Cheers for the elp!',\n \"You're a lifesaver, tanks!\",\n \"I can't tank you enough for your elp.\",\n 'Tanks a bunch!',\n 'Really appreciate it.',\n 'Super elpful, tanks!',\n 'Tanks for the support!',\n 'Much obliged!',\n 'So grateful, tanks!',\n 'Support means a lot, tanks!',\n 'Cheers!',\n \"You're a lifesaver!\",\n \"Can't tank you enough!\",\n 'Tanks!',\n 'Appreciated.',\n 'So elpful!',\n 'Tanks a lot!',\n 'Obliged.',\n 'Grateful.',\n 'Supportive, tanks!',\n 'Cheers!',\n 'Lifesaver!',\n \"Can't tank enough!\"]"
     },
     "execution_count": 1,
     "metadata": {},
     "output_type": "execute_result"
    }
   ],
   "source": [
    "#! pip install dotenv langchain_openai\n",
    "from interactigen import Interactigen\n",
    "from dotenv import load_dotenv\n",
    "from langchain_openai import ChatOpenAI\n",
    "\n",
    "load_dotenv(dotenv_path='../scratch/dev.env')\n",
    "\n",
    "model = ChatOpenAI(model=\"gpt-4-0125-preview\")\n",
    "\n",
    "interactigen = Interactigen(\n",
    "    model=model,\n",
    ")\n",
    " \n",
    "phrase_utterances = interactigen.generate_phrase_utterances(\n",
    "    base_phrase=\"someone might express appreciation to a bot\",\n",
    "    init_quantity=20,\n",
    ")\n",
    "\n",
    "phrase_utterances"
   ],
   "metadata": {
    "collapsed": false,
    "ExecuteTime": {
     "end_time": "2024-02-21T00:59:22.999072800Z",
     "start_time": "2024-02-21T00:58:14.899819100Z"
    }
   },
   "id": "c17238bcce7d59cc",
   "execution_count": 1
  },
  {
   "cell_type": "markdown",
   "source": [
    "## Generate Phrase Utterances with Google Generative AI\n",
    "\n",
    "Here is an example loading the Google Generative AI gemini-pro model for generating the utterances.\n",
    "\n",
    "Make sure you have an environment file with the path *scratch/dev.env* and set the GOOGLE_API_KEY and (optionally) LANGCHAIN_API_KEY and LANGCHAIN_PROJECT if you are tracing with LangSmith:\n",
    "```scratch/dev.env:\n",
    "GOOGLE_API_KEY=<Google Generative AI API Key>\n",
    "LANGCHAIN_API_KEY=<LangSmith API Key>\n",
    "LANGCHAIN_PROJECT=<LangSmith Project Name>\n",
    "```"
   ],
   "metadata": {
    "collapsed": false
   },
   "id": "da6165e54af6c4cb"
  },
  {
   "cell_type": "code",
   "outputs": [
    {
     "data": {
      "text/plain": "['Thank you for your help today!',\n 'You have been most helpful.',\n 'I am so grateful for your assistance.',\n 'You have gone above and beyond.',\n 'I really appreciate your time and effort.',\n 'You are a lifesaver!',\n \"I don't know what I would have done without you.\",\n 'You are a credit to your company.',\n 'I will definitely be recommending you to my friends and family.',\n 'You are the best bot I have ever interacted with.',\n 'You are a true asset to your team.',\n 'I am so impressed with your knowledge and expertise.',\n 'I am grateful for your patience and understanding.',\n 'You have made this process so easy for me.',\n 'I am so glad I chose to use your services.',\n 'You have exceeded my expectations.',\n 'I am so thankful for your help.',\n 'You have made my day.',\n 'I am so happy I was able to interact with you today.',\n 'Thanks for your help.',\n 'Helped a lot.',\n 'Appreciate the help.',\n 'Went above and beyond.',\n 'Thanks for your time.',\n 'Lifesaver!',\n \"Don't know what I'd do.\",\n 'Credit to your company.',\n 'Recommend you to others.',\n 'Best bot ever.',\n 'Asset to your team.',\n 'Knowledgeable and expert.',\n 'Patient and understanding.',\n 'Made this easy.',\n 'Glad I chose your services.',\n 'Exceeded my expectations.',\n 'Thankful for your help.',\n 'Made my day.',\n 'Happy to interact.',\n 'Thanks help!',\n 'Helpful.',\n 'Grateful assistance.',\n 'Above beyond.',\n 'Appreciate time effort.',\n 'Lifesaver!',\n 'Without you.',\n 'Credit company.',\n 'Recommend friends family.',\n 'Best bot.',\n 'Asset team.',\n 'Knowledge expertise.',\n 'Patience understanding.',\n 'Easy me.',\n 'Glad services.',\n 'Exceeded expectations.',\n 'Thankful help.',\n 'Made day.',\n 'Happy interact.',\n 'Today for help thank you!',\n 'Helpful most been you have.',\n 'Grateful assistance so am I for your.',\n 'Beyond gone above have you and.',\n 'Time effort your appreciate and I.',\n 'Lifesaver you are a!',\n \"Without you what done would I don't know.\",\n 'Company credit to your are you.',\n 'Family friends you recommend to will I.',\n 'Bot best ever interacted with have I.',\n 'Team asset to your a are you.',\n 'Expertise knowledge and with impressed so am I.',\n 'Understanding patience and grateful am I.',\n 'Me easy for made you have this process.',\n 'Services chose your to glad I am so.',\n 'Expectations exceeded my have you.',\n 'Help thankful for your am I so.',\n 'Day my made have you.',\n 'Interact today able was I happy so to you with.',\n 'Help thanks your for!',\n 'A lot helped.',\n 'Help appreciate the.',\n 'Beyond went above and.',\n 'Time thanks your for.',\n 'Lifesaver a!',\n \"You without do would what know don't I.\",\n 'Company credit to your.',\n 'Others recommend you to.',\n 'Bot best ever.',\n 'Team asset your to.',\n 'Expert knowledgeable and.',\n 'Understanding patient and.',\n 'Easy me.',\n 'Services glad I chose your.',\n 'Expectations exceeded my.',\n 'Help thankful your for.',\n 'Day my made.',\n 'Interact happy to.',\n 'Help thanks!',\n 'Helpful.',\n 'Assistance grateful.',\n 'Beyond above.',\n 'Effort time appreciate your.',\n 'Lifesaver!',\n 'You without.',\n 'Company credit.',\n 'Family friends to recommend.',\n 'Bot best.',\n 'Team asset.',\n 'Expertise knowledge.',\n 'Understanding patience.',\n 'Me easy.',\n 'Services glad.',\n 'Expectations exceeded.',\n 'Help thankful.',\n 'Day made.',\n 'Interact happy.',\n 'Many thanks for your assistance this day!',\n 'You have been most beneficial.',\n 'Your help is most appreciated.',\n 'Your efforts have been extraordinary.',\n 'Your time and effort are greatly valued.',\n 'You have saved me!',\n 'I am unsure of how I would have proceeded without you.',\n 'You are a shining example for your organization.',\n 'I shall most definitely recommend you to my acquaintances and family.',\n 'You are the finest bot I have ever had the pleasure of interacting with.',\n 'You are a valuable asset to your team.',\n 'I am astounded by your expertise and knowledge.',\n 'I am thankful for your patience and understanding.',\n 'You have made this process effortless for me.',\n 'I am most pleased that I decided to use your services.',\n 'You have surpassed my expectations.',\n 'I am grateful for your assistance.',\n 'You have brightened my day.',\n 'I am delighted that I was able to communicate with you this day.',\n 'Thank you for your assistance.',\n 'Helped a great deal.',\n 'Thank you for your aid.',\n 'Went above and beyond the call of duty.',\n 'Thank you for your time.',\n 'Lifesaver!',\n 'I am unsure of what I would do.',\n 'You are a shining example for your organization.',\n 'I shall most definitely recommend you to my acquaintances and family.',\n 'Best bot ever.',\n 'Asset to your team.',\n 'Knowledgeable and expert.',\n 'Patient and understanding.',\n 'Made this easy for me.',\n 'Glad I chose your services.',\n 'Exceeded my expectations.',\n 'Thankful for your help.',\n 'Made my day.',\n 'Happy to interact with you.',\n 'Thank for your help today',\n 'You have been most helpful.',\n 'I am so grateful for your assistance.',\n 'You have gone above and beyond.',\n 'I really appreciate your time and effort.',\n 'You are a lifesaver!',\n \"I don't know what I would have done without you.\",\n 'You are a credit to your company.',\n 'I will definitely be recommending you to my friends and family.',\n 'You are the best bot I have ever interacted with.',\n 'You are a true asset to your team.',\n 'I am so impressed with your knowledge and expertise.',\n 'I am grateful for your patience and understanding.',\n 'You have made this process so easy for me.',\n 'I am so glad I chose to use your services.',\n 'You have exceeded my expectations.',\n 'I am so thankful for your help.',\n 'You have made my day.',\n 'I am so happy I was able to interact with you today.',\n 'Thanks for your help.',\n 'Helped a lot.',\n 'Appreciate the help.',\n 'Went above and beyond.',\n 'Thanks for your time.',\n 'Lifesaver!',\n \"Don't know what I'd do.\",\n 'Credit to your company.',\n 'Recommend you to others.',\n 'Best bot ever.',\n 'Asset to your team.',\n 'Knowledgeable and expert.',\n 'Patient and understanding.',\n 'Made this easy.',\n 'Glad I chose your services.',\n 'Exceeded my expectations.',\n 'Thankful for your help.',\n 'Made my day.',\n 'Happy to interact.',\n 'Thanks help!',\n 'Helpful.',\n 'Grateful assistance.',\n 'Above beyond.',\n 'Appreciate time effort.',\n 'Lifesaver!',\n 'Without you.',\n 'Credit company.',\n 'Recommend friends family.',\n 'Best bot.',\n 'Asset team.',\n 'Knowledge expertise.',\n 'Patience understanding.',\n 'Easy me.',\n 'Glad services.',\n 'Exceeded expectations.',\n 'Thankful help.',\n 'Made day.',\n 'Happy interact.',\n 'Think you for you help today!',\n 'You half beam most helpful.',\n 'I ham so gray full for you assistance.',\n 'You half gone a buy and beyond.',\n 'I really a piece eat you time and effort.',\n 'You are a life save your!',\n \"I don't no what I wood half down without you.\",\n 'You are a credit to you company.',\n 'I will definitely be recommending you to my friends and family.',\n 'You are the best bot I half every in turk acted with.',\n 'You are a true asset to you team.',\n 'I am so impressed with you knowledge and expert eyes.',\n 'I am grateful for you patience and understanding.',\n 'You half made this process so easy for me.',\n 'I am so glad I chose to use you services.',\n 'You half exceeded my expectations.',\n 'I am so thankful for you help.',\n 'You half made my day.',\n 'I am so happy I was a bull to interact with you today.',\n 'Thanks for you help.',\n 'Help a lot.',\n 'Appreciate the help.',\n 'Went a buy and beyond.',\n 'Thanks for you time.',\n 'Life save your!',\n \"Don't no what I'd do.\",\n 'Credit to you company.',\n 'Recommend you to others.',\n 'Best bot ever.',\n 'Asset to you team.',\n 'Knowledge a bull expert eyes.',\n 'Patience and understanding.',\n 'Made this easy.',\n 'Glad I chose you services.',\n 'Exceeded my expectations.',\n 'Thankful for you help.',\n 'Made my day.',\n 'Happy to interact.']"
     },
     "execution_count": 2,
     "metadata": {},
     "output_type": "execute_result"
    }
   ],
   "source": [
    "#! pip install dotenv langchain_google_genai\n",
    "from interactigen import Interactigen\n",
    "from dotenv import load_dotenv\n",
    "from langchain_google_genai import ChatGoogleGenerativeAI\n",
    "\n",
    "load_dotenv(dotenv_path='../scratch/dev.env')\n",
    "\n",
    "model = ChatGoogleGenerativeAI(model=\"gemini-pro\", convert_system_message_to_human=True)\n",
    "\n",
    "interactigen = Interactigen(\n",
    "    model=model,\n",
    ")\n",
    "\n",
    "phrase_utterances = interactigen.generate_phrase_utterances(\n",
    "    base_phrase=\"someone might express appreciation to a bot\",\n",
    "    init_quantity=20,\n",
    ")\n",
    "\n",
    "phrase_utterances"
   ],
   "metadata": {
    "collapsed": false,
    "ExecuteTime": {
     "end_time": "2024-02-27T17:07:51.073496Z",
     "start_time": "2024-02-27T17:07:12.137250Z"
    }
   },
   "id": "8326ec837b614d73",
   "execution_count": 2
  }
 ],
 "metadata": {
  "kernelspec": {
   "display_name": "Python 3",
   "language": "python",
   "name": "python3"
  },
  "language_info": {
   "codemirror_mode": {
    "name": "ipython",
    "version": 2
   },
   "file_extension": ".py",
   "mimetype": "text/x-python",
   "name": "python",
   "nbconvert_exporter": "python",
   "pygments_lexer": "ipython2",
   "version": "2.7.6"
  }
 },
 "nbformat": 4,
 "nbformat_minor": 5
}
