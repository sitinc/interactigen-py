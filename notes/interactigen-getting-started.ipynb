{
 "cells": [
  {
   "cell_type": "code",
   "outputs": [
    {
     "data": {
      "text/plain": "['Thank you so much for your help!',\n 'I really appreciate your assistance.',\n \"You've been incredibly helpful, thanks!\",\n 'Thanks a lot for the support!',\n 'Much obliged for your help.',\n \"I'm so grateful for your assistance.\",\n 'Your support means a lot, thank you.',\n 'Cheers for the help!',\n \"You're a lifesaver, thanks!\",\n \"I can't thank you enough for your help.\",\n 'Thanks a bunch!',\n 'Really appreciate it.',\n 'Super helpful, thanks!',\n 'Thanks for the support!',\n 'Much obliged!',\n 'So grateful, thanks!',\n 'Support means a lot, thanks!',\n 'Cheers!',\n \"You're a lifesaver!\",\n \"Can't thank you enough!\",\n 'Thanks!',\n 'Appreciated.',\n 'So helpful!',\n 'Thanks a lot!',\n 'Obliged.',\n 'Grateful.',\n 'Supportive, thanks!',\n 'Cheers!',\n 'Lifesaver!',\n \"Can't thank enough!\",\n 'Thank you so much for your help!',\n 'I really appreciate your assistance.',\n \"You've been incredibly helpful, thanks!\",\n 'Thanks a lot for the support!',\n 'Much obliged for your help.',\n \"I'm so grateful for your assistance.\",\n 'Your support means a lot, thank you.',\n 'Cheers for the help!',\n \"You're a lifesaver, thanks!\",\n \"I can't thank you enough for your help.\",\n 'Thanks a bunch!',\n 'Really appreciate it.',\n 'Super helpful, thanks!',\n 'Thanks for the support!',\n 'Much obliged!',\n 'So grateful, thanks!',\n 'Support means a lot, thanks!',\n 'Cheers!',\n \"You're a lifesaver!\",\n \"Can't thank you enough!\",\n 'Thanks!',\n 'Appreciated.',\n 'So helpful!',\n 'Thanks a lot!',\n 'Obliged.',\n 'Grateful.',\n 'Supportive, thanks!',\n 'Cheers!',\n 'Lifesaver!',\n \"Can't thank enough!\",\n \"I'm immensely thankful for your support!\",\n 'I deeply value your help.',\n 'Your assistance has been incredibly valuable, thank you!',\n 'Thank you so much for your aid!',\n 'Greatly indebted for your support.',\n \"I'm very thankful for your help.\",\n 'Your help has been significant, thank you.',\n 'Many thanks for the assistance!',\n \"You've been a great help, thank you!\",\n 'I cannot express my gratitude enough for your support.',\n 'Thank you very much!',\n 'Really value it.',\n 'Extremely useful, thank you!',\n 'Thank you for the aid!',\n 'Deeply indebted!',\n 'Very thankful, thank you!',\n 'Your aid means a lot, thank you!',\n 'Many thanks!',\n \"You've been a great help!\",\n 'Impossible to thank you enough!',\n 'Thank you!',\n 'Valued.',\n 'Very useful!',\n 'Thank you so much!',\n 'Indebted.',\n 'Thankful.',\n 'Aiding, thank you!',\n 'Many thanks!',\n 'Great help!',\n 'Impossible to express my gratitude enough!',\n 'Thank you so much for your help!',\n 'I really appreciate your assistance.',\n \"You've been incredibly helpful, thanks!\",\n 'Thanks a lot for the support!',\n 'Much obliged for your help.',\n \"I'm so grateful for your assistance.\",\n 'Your support means a lot, thank you.',\n 'Cheers for the help!',\n \"You're a lifesaver, thanks!\",\n \"I can't thank you enough for your help.\",\n 'Thanks a bunch!',\n 'Really appreciate it.',\n 'Super helpful, thanks!',\n 'Thanks for the support!',\n 'Much obliged!',\n 'So grateful, thanks!',\n 'Support means a lot, thanks!',\n 'Cheers!',\n \"You're a lifesaver!\",\n \"Can't thank you enough!\",\n 'Thanks!',\n 'Appreciated.',\n 'So helpful!',\n 'Thanks a lot!',\n 'Obliged.',\n 'Grateful.',\n 'Supportive, thanks!',\n 'Cheers!',\n 'Lifesaver!',\n \"Can't thank enough!\",\n 'Tank you so much for your help!',\n 'Eye really appreciate your assistance.',\n \"You've been incredibly helpful, tanks!\",\n 'Thanks allot for the support!',\n 'Much obliged for your halp.',\n \"Aye'm so grateful for your assistance.\",\n 'Your support means allot, thank you.',\n 'Cheers for the halp!',\n \"You're a life saver, thanks!\",\n \"Eye can't thank you enough for your help.\",\n 'Thanks a brunch!',\n 'Really appreciate it.',\n 'Super helpful, tanks!',\n 'Thanks for the support!',\n 'Much obliged!',\n 'So grateful, tanks!',\n 'Support means a lot, thank you!',\n 'Cheers!',\n 'Your a lifesaver!',\n \"Can't tank you enough!\",\n 'Tanks!',\n 'Appreciated.',\n 'So helpful!',\n 'Thanks a lot!',\n 'Obliged.',\n 'Grateful.',\n 'Supportive, tanks!',\n 'Cheers!',\n 'Life saver!',\n \"Can't tank enough!\",\n 'Thank you so much for your help!',\n 'I really appreciate your assistance.',\n \"You've been incredibly helpful, thanks!\",\n 'Thanks a lot for the support!',\n 'Much obliged for your help.',\n \"I'm so grateful for your assistance.\",\n 'Your support means a lot, thank you.',\n 'Cheers for the help!',\n \"You're a lifesaver, thanks!\",\n \"I can't thank you enough for your help.\",\n 'Thanks a bunch!',\n 'Really appreciate it.',\n 'Super helpful, thanks!',\n 'Thanks for the support!',\n 'Much obliged!',\n 'So grateful, thanks!',\n 'Support means a lot, thanks!',\n 'Cheers!',\n \"You're a lifesaver!\",\n \"Can't thank you enough!\",\n 'Thanks!',\n 'Appreciated.',\n 'So helpful!',\n 'Thanks a lot!',\n 'Obliged.',\n 'Grateful.',\n 'Supportive, thanks!',\n 'Cheers!',\n 'Lifesaver!',\n \"Can't thank enough!\",\n 'Tank you so much for your elp!',\n 'I rally appreciate your assistance.',\n \"You've been incredibly elpful, tanks!\",\n 'Tanks a lot for the support!',\n 'Much obliged for your elp.',\n \"I'm so grateful for your assistance.\",\n 'Your support means a lot, tank you.',\n 'Cheers for the elp!',\n \"You're a lifesaver, tanks!\",\n \"I can't tank you enough for your elp.\",\n 'Tanks a bunch!',\n 'Really appreciate it.',\n 'Super elpful, tanks!',\n 'Tanks for the support!',\n 'Much obliged!',\n 'So grateful, tanks!',\n 'Support means a lot, tanks!',\n 'Cheers!',\n \"You're a lifesaver!\",\n \"Can't tank you enough!\",\n 'Tanks!',\n 'Appreciated.',\n 'So elpful!',\n 'Tanks a lot!',\n 'Obliged.',\n 'Grateful.',\n 'Supportive, tanks!',\n 'Cheers!',\n 'Lifesaver!',\n \"Can't tank enough!\"]"
     },
     "execution_count": 1,
     "metadata": {},
     "output_type": "execute_result"
    }
   ],
   "source": [
    "from interactigen import Interactigen\n",
    "from dotenv import load_dotenv\n",
    "from langchain_openai import ChatOpenAI\n",
    "\n",
    "load_dotenv(dotenv_path='../scratch/dev.env')\n",
    "\n",
    "model = ChatOpenAI(model=\"gpt-4-0125-preview\")\n",
    "\n",
    "interactigen = Interactigen(\n",
    "    model=model,\n",
    ")\n",
    "\n",
    "phrase_utterances = interactigen.generate_phrase_utterances(\n",
    "    base_phrase=\"someone might express appreciation to a bot\",\n",
    "    quantity=20,\n",
    ")\n",
    "\n",
    "phrase_utterances"
   ],
   "metadata": {
    "collapsed": false,
    "ExecuteTime": {
     "end_time": "2024-02-21T00:59:22.999072800Z",
     "start_time": "2024-02-21T00:58:14.899819100Z"
    }
   },
   "id": "c17238bcce7d59cc",
   "execution_count": 1
  },
  {
   "cell_type": "code",
   "outputs": [],
   "source": [
    "from interactigen import Interactigen\n",
    "from dotenv import load_dotenv\n",
    "from langchain_google_genai import ChatGoogleGenerativeAI\n",
    "\n",
    "load_dotenv(dotenv_path='../scratch/dev.env')\n",
    "\n",
    "model = ChatGoogleGenerativeAI(model=\"gemini-pro\")\n",
    "\n",
    "interactigen = Interactigen(\n",
    "    model=model,\n",
    ")\n",
    "\n",
    "phrase_utterances = interactigen.generate_phrase_utterances(\n",
    "    base_phrase=\"someone might express appreciation to a bot\",\n",
    "    quantity=20,\n",
    ")\n",
    "\n",
    "phrase_utterances"
   ],
   "metadata": {
    "collapsed": false
   },
   "id": "8326ec837b614d73"
  }
 ],
 "metadata": {
  "kernelspec": {
   "display_name": "Python 3",
   "language": "python",
   "name": "python3"
  },
  "language_info": {
   "codemirror_mode": {
    "name": "ipython",
    "version": 2
   },
   "file_extension": ".py",
   "mimetype": "text/x-python",
   "name": "python",
   "nbconvert_exporter": "python",
   "pygments_lexer": "ipython2",
   "version": "2.7.6"
  }
 },
 "nbformat": 4,
 "nbformat_minor": 5
}
