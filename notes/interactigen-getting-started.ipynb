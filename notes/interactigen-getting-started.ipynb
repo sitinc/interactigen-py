{
 "cells": [
  {
   "cell_type": "code",
   "outputs": [
    {
     "name": "stdout",
     "output_type": "stream",
     "text": [
      "{'utterances': ['Thank you for your help!', 'I appreciate your assistance.', 'You are doing a great job!', 'Thanks for being so helpful.', 'I am grateful for your support.', 'You are amazing, bot!', 'I am so thankful for your service.', 'Your assistance is greatly appreciated.', 'Thank you for always being there.', 'I am so glad I have you, bot!']}\n",
      "{'utterances': ['Thanks for your help!', 'Appreciate your help!', 'Great job!', 'Thanks for being helpful.', 'Grateful for your support.', \"You're amazing, bot!\", 'Thankful for your service.', 'Your help is greatly appreciated.', 'Thank you for always being there.', 'Glad to have you, bot!']}\n"
     ]
    }
   ],
   "source": [
    "from dotenv import load_dotenv\n",
    "from langchain_openai import OpenAI\n",
    "from langchain_core.prompts import PromptTemplate\n",
    "from langchain_core.output_parsers import JsonOutputParser\n",
    "from langchain_core.pydantic_v1 import BaseModel, Field\n",
    "\n",
    "load_dotenv(dotenv_path='../scratch/dev.env')\n",
    "\n",
    "model = OpenAI()\n",
    "\n",
    "# Define your desired data structure.\n",
    "class Utterances(BaseModel):\n",
    "    utterances: list[str] = Field(description=\"The array of generated utterances.\", examples=[\"Hello\", \"Hi\", \"Hey\"])\n",
    "    \n",
    "parser = JsonOutputParser(pydantic_object=Utterances)\n",
    "\n",
    "sys_prompt = \"\"\"You are a helpful assistant that generates high-quality training data for use with voice and chat bots.\"\"\"\n",
    "\n",
    "base_prompt = PromptTemplate(\n",
    "    template=\"{sys_prompt}.  Please generate {quantity} semantically diverse ways {base_phrase}.\\n{format_instructions}\\n\",\n",
    "    input_variables=[\"sys_prompt\", \"quantity\", \"base_phrase\"],\n",
    "    partial_variables={\"format_instructions\": parser.get_format_instructions()},\n",
    ")\n",
    "\n",
    "base_chain = base_prompt | model | parser\n",
    "\n",
    "base_chain_result = base_chain.invoke({\n",
    "    \"sys_prompt\": sys_prompt,\n",
    "    \"quantity\": 10,\n",
    "    \"base_phrase\": \"someone might express appreciation to a bot\",\n",
    "})\n",
    "\n",
    "print(base_chain_result)\n",
    "\n",
    "transform_prompt = PromptTemplate(\n",
    "    template=\"{sys_prompt}.  Here is a list of utterances:\\n\\n{utterances}\\n\\nPlease repeat these examples, but {transform_phrase}.\\n{format_instructions}\\n\",\n",
    "    input_variables=[\"sys_prompt\", \"utterances\", \"transform_phrase\"],\n",
    "    partial_variables={\"format_instructions\": parser.get_format_instructions()},\n",
    ")\n",
    "\n",
    "transform_chain = transform_prompt | model | parser\n",
    "\n",
    "transform_chain_result = transform_chain.invoke({\n",
    "    \"sys_prompt\": sys_prompt,\n",
    "    \"utterances\": base_chain_result['utterances'],\n",
    "    \"transform_phrase\": \"sound more casual and use half the words\",\n",
    "})\n",
    "\n",
    "print(transform_chain_result)\n"
   ],
   "metadata": {
    "collapsed": false,
    "ExecuteTime": {
     "end_time": "2024-02-20T22:29:40.492237700Z",
     "start_time": "2024-02-20T22:29:38.091589Z"
    }
   },
   "id": "473ca835924c8c1f",
   "execution_count": 2
  },
  {
   "cell_type": "code",
   "outputs": [],
   "source": [],
   "metadata": {
    "collapsed": false
   },
   "id": "c17238bcce7d59cc"
  }
 ],
 "metadata": {
  "kernelspec": {
   "display_name": "Python 3",
   "language": "python",
   "name": "python3"
  },
  "language_info": {
   "codemirror_mode": {
    "name": "ipython",
    "version": 2
   },
   "file_extension": ".py",
   "mimetype": "text/x-python",
   "name": "python",
   "nbconvert_exporter": "python",
   "pygments_lexer": "ipython2",
   "version": "2.7.6"
  }
 },
 "nbformat": 4,
 "nbformat_minor": 5
}
