{
 "cells": [
  {
   "cell_type": "markdown",
   "source": [
    "MIT License\n",
    "\n",
    "Copyright (c) 2024 Justin Randall, Smart Interactive Transformations Inc.\n",
    "\n",
    "Permission is hereby granted, free of charge, to any person obtaining a copy\n",
    "of this software and associated documentation files (the \"Software\"), to deal\n",
    "in the Software without restriction, including without limitation the rights\n",
    "to use, copy, modify, merge, publish, distribute, sublicense, and/or sell\n",
    "copies of the Software, and to permit persons to whom the Software is\n",
    "furnished to do so, subject to the following conditions:\n",
    "\n",
    "The above copyright notice and this permission notice shall be included in all\n",
    "copies or substantial portions of the Software.\n",
    "\n",
    "THE SOFTWARE IS PROVIDED \"AS IS\", WITHOUT WARRANTY OF ANY KIND, EXPRESS OR\n",
    "IMPLIED, INCLUDING BUT NOT LIMITED TO THE WARRANTIES OF MERCHANTABILITY,\n",
    "FITNESS FOR A PARTICULAR PURPOSE AND NONINFRINGEMENT. IN NO EVENT SHALL THE\n",
    "AUTHORS OR COPYRIGHT HOLDERS BE LIABLE FOR ANY CLAIM, DAMAGES OR OTHER\n",
    "LIABILITY, WHETHER IN AN ACTION OF CONTRACT, TORT OR OTHERWISE, ARISING FROM,\n",
    "OUT OF OR IN CONNECTION WITH THE SOFTWARE OR THE USE OR OTHER DEALINGS IN THE\n",
    "SOFTWARE."
   ],
   "metadata": {
    "collapsed": false
   },
   "id": "e9a6b35905cf2bad"
  },
  {
   "cell_type": "markdown",
   "source": [
    "# Overview\n",
    "\n",
    "The purpose of this notebook is to serve as basic documentation for using the Interactigen library to generate base and augmented utterance phrases to use with natural language understanding (NLU) intent classification, or with Large Language Model (LLM) fine-tuning.\n",
    "\n",
    "The Interactigen module is built on LangChain.  The decision to use LangChain enables experimenting with various models with minimal code adjustments.  Already have code to load and configure your favourite LangChain ChatModel?  Great!  Let's use that.\n",
    "\n",
    "The output results for each run is a JSON array for downstream use: write to a file, split test/train utterances, and more."
   ],
   "metadata": {
    "collapsed": false
   },
   "id": "5fa6a1d230229fd6"
  },
  {
   "cell_type": "markdown",
   "source": [
    "## Generate Phrase Utterances with OpenAI\n",
    "\n",
    "Here is an example loading the OpenAI gpt-4-0125-preview model for generating the utterances.\n",
    "\n",
    "Make sure you have an environment file with the path *scratch/dev.env* and set the OPENAI_API_KEY and (optionally) LANGCHAIN_API_KEY and LANGCHAIN_PROJECT if you are tracing with LangSmith:\n",
    "```scratch/dev.env:\n",
    "OPENAI_API_KEY=<OpenAI API Key>\n",
    "LANGCHAIN_API_KEY=<LangSmith API Key>\n",
    "LANGCHAIN_PROJECT=<LangSmith Project Name>\n",
    "```"
   ],
   "metadata": {
    "collapsed": false
   },
   "id": "8ccbed34efeeace7"
  },
  {
   "cell_type": "code",
   "outputs": [
    {
     "data": {
      "text/plain": "['Thank you so much for your help!',\n 'I really appreciate your assistance.',\n \"You've been incredibly helpful, thanks!\",\n 'Thanks a lot for the support!',\n 'Much obliged for your help.',\n \"I'm so grateful for your assistance.\",\n 'Your support means a lot, thank you.',\n 'Cheers for the help!',\n \"You're a lifesaver, thanks!\",\n \"I can't thank you enough for your help.\",\n 'Thanks a bunch!',\n 'Really appreciate it.',\n 'Super helpful, thanks!',\n 'Thanks for the support!',\n 'Much obliged!',\n 'So grateful, thanks!',\n 'Support means a lot, thanks!',\n 'Cheers!',\n \"You're a lifesaver!\",\n \"Can't thank you enough!\",\n 'Thanks!',\n 'Appreciated.',\n 'So helpful!',\n 'Thanks a lot!',\n 'Obliged.',\n 'Grateful.',\n 'Supportive, thanks!',\n 'Cheers!',\n 'Lifesaver!',\n \"Can't thank enough!\",\n 'Thank you so much for your help!',\n 'I really appreciate your assistance.',\n \"You've been incredibly helpful, thanks!\",\n 'Thanks a lot for the support!',\n 'Much obliged for your help.',\n \"I'm so grateful for your assistance.\",\n 'Your support means a lot, thank you.',\n 'Cheers for the help!',\n \"You're a lifesaver, thanks!\",\n \"I can't thank you enough for your help.\",\n 'Thanks a bunch!',\n 'Really appreciate it.',\n 'Super helpful, thanks!',\n 'Thanks for the support!',\n 'Much obliged!',\n 'So grateful, thanks!',\n 'Support means a lot, thanks!',\n 'Cheers!',\n \"You're a lifesaver!\",\n \"Can't thank you enough!\",\n 'Thanks!',\n 'Appreciated.',\n 'So helpful!',\n 'Thanks a lot!',\n 'Obliged.',\n 'Grateful.',\n 'Supportive, thanks!',\n 'Cheers!',\n 'Lifesaver!',\n \"Can't thank enough!\",\n \"I'm immensely thankful for your support!\",\n 'I deeply value your help.',\n 'Your assistance has been incredibly valuable, thank you!',\n 'Thank you so much for your aid!',\n 'Greatly indebted for your support.',\n \"I'm very thankful for your help.\",\n 'Your help has been significant, thank you.',\n 'Many thanks for the assistance!',\n \"You've been a great help, thank you!\",\n 'I cannot express my gratitude enough for your support.',\n 'Thank you very much!',\n 'Really value it.',\n 'Extremely useful, thank you!',\n 'Thank you for the aid!',\n 'Deeply indebted!',\n 'Very thankful, thank you!',\n 'Your aid means a lot, thank you!',\n 'Many thanks!',\n \"You've been a great help!\",\n 'Impossible to thank you enough!',\n 'Thank you!',\n 'Valued.',\n 'Very useful!',\n 'Thank you so much!',\n 'Indebted.',\n 'Thankful.',\n 'Aiding, thank you!',\n 'Many thanks!',\n 'Great help!',\n 'Impossible to express my gratitude enough!',\n 'Thank you so much for your help!',\n 'I really appreciate your assistance.',\n \"You've been incredibly helpful, thanks!\",\n 'Thanks a lot for the support!',\n 'Much obliged for your help.',\n \"I'm so grateful for your assistance.\",\n 'Your support means a lot, thank you.',\n 'Cheers for the help!',\n \"You're a lifesaver, thanks!\",\n \"I can't thank you enough for your help.\",\n 'Thanks a bunch!',\n 'Really appreciate it.',\n 'Super helpful, thanks!',\n 'Thanks for the support!',\n 'Much obliged!',\n 'So grateful, thanks!',\n 'Support means a lot, thanks!',\n 'Cheers!',\n \"You're a lifesaver!\",\n \"Can't thank you enough!\",\n 'Thanks!',\n 'Appreciated.',\n 'So helpful!',\n 'Thanks a lot!',\n 'Obliged.',\n 'Grateful.',\n 'Supportive, thanks!',\n 'Cheers!',\n 'Lifesaver!',\n \"Can't thank enough!\",\n 'Tank you so much for your help!',\n 'Eye really appreciate your assistance.',\n \"You've been incredibly helpful, tanks!\",\n 'Thanks allot for the support!',\n 'Much obliged for your halp.',\n \"Aye'm so grateful for your assistance.\",\n 'Your support means allot, thank you.',\n 'Cheers for the halp!',\n \"You're a life saver, thanks!\",\n \"Eye can't thank you enough for your help.\",\n 'Thanks a brunch!',\n 'Really appreciate it.',\n 'Super helpful, tanks!',\n 'Thanks for the support!',\n 'Much obliged!',\n 'So grateful, tanks!',\n 'Support means a lot, thank you!',\n 'Cheers!',\n 'Your a lifesaver!',\n \"Can't tank you enough!\",\n 'Tanks!',\n 'Appreciated.',\n 'So helpful!',\n 'Thanks a lot!',\n 'Obliged.',\n 'Grateful.',\n 'Supportive, tanks!',\n 'Cheers!',\n 'Life saver!',\n \"Can't tank enough!\",\n 'Thank you so much for your help!',\n 'I really appreciate your assistance.',\n \"You've been incredibly helpful, thanks!\",\n 'Thanks a lot for the support!',\n 'Much obliged for your help.',\n \"I'm so grateful for your assistance.\",\n 'Your support means a lot, thank you.',\n 'Cheers for the help!',\n \"You're a lifesaver, thanks!\",\n \"I can't thank you enough for your help.\",\n 'Thanks a bunch!',\n 'Really appreciate it.',\n 'Super helpful, thanks!',\n 'Thanks for the support!',\n 'Much obliged!',\n 'So grateful, thanks!',\n 'Support means a lot, thanks!',\n 'Cheers!',\n \"You're a lifesaver!\",\n \"Can't thank you enough!\",\n 'Thanks!',\n 'Appreciated.',\n 'So helpful!',\n 'Thanks a lot!',\n 'Obliged.',\n 'Grateful.',\n 'Supportive, thanks!',\n 'Cheers!',\n 'Lifesaver!',\n \"Can't thank enough!\",\n 'Tank you so much for your elp!',\n 'I rally appreciate your assistance.',\n \"You've been incredibly elpful, tanks!\",\n 'Tanks a lot for the support!',\n 'Much obliged for your elp.',\n \"I'm so grateful for your assistance.\",\n 'Your support means a lot, tank you.',\n 'Cheers for the elp!',\n \"You're a lifesaver, tanks!\",\n \"I can't tank you enough for your elp.\",\n 'Tanks a bunch!',\n 'Really appreciate it.',\n 'Super elpful, tanks!',\n 'Tanks for the support!',\n 'Much obliged!',\n 'So grateful, tanks!',\n 'Support means a lot, tanks!',\n 'Cheers!',\n \"You're a lifesaver!\",\n \"Can't tank you enough!\",\n 'Tanks!',\n 'Appreciated.',\n 'So elpful!',\n 'Tanks a lot!',\n 'Obliged.',\n 'Grateful.',\n 'Supportive, tanks!',\n 'Cheers!',\n 'Lifesaver!',\n \"Can't tank enough!\"]"
     },
     "execution_count": 1,
     "metadata": {},
     "output_type": "execute_result"
    }
   ],
   "source": [
    "#! pip install dotenv langchain_openai\n",
    "from interactigen import Interactigen\n",
    "from dotenv import load_dotenv\n",
    "from langchain_openai import ChatOpenAI\n",
    "\n",
    "load_dotenv(dotenv_path='../scratch/dev.env')\n",
    "\n",
    "model = ChatOpenAI(model=\"gpt-4-0125-preview\")\n",
    "\n",
    "interactigen = Interactigen(\n",
    "    model=model,\n",
    ")\n",
    " \n",
    "phrase_utterances = interactigen.generate_phrase_utterances(\n",
    "    base_phrase=\"someone might express appreciation to a bot\",\n",
    "    init_quantity=20,\n",
    ")\n",
    "\n",
    "phrase_utterances"
   ],
   "metadata": {
    "collapsed": false,
    "ExecuteTime": {
     "end_time": "2024-02-21T00:59:22.999072800Z",
     "start_time": "2024-02-21T00:58:14.899819100Z"
    }
   },
   "id": "c17238bcce7d59cc",
   "execution_count": 1
  },
  {
   "cell_type": "markdown",
   "source": [
    "## Generate Phrase Utterances with Google Generative AI\n",
    "\n",
    "Here is an example loading the Google Generative AI gemini-pro model for generating the utterances.\n",
    "\n",
    "Make sure you have an environment file with the path *scratch/dev.env* and set the GOOGLE_API_KEY and (optionally) LANGCHAIN_API_KEY and LANGCHAIN_PROJECT if you are tracing with LangSmith:\n",
    "```scratch/dev.env:\n",
    "GOOGLE_API_KEY=<Google Generative AI API Key>\n",
    "LANGCHAIN_API_KEY=<LangSmith API Key>\n",
    "LANGCHAIN_PROJECT=<LangSmith Project Name>\n",
    "```"
   ],
   "metadata": {
    "collapsed": false
   },
   "id": "da6165e54af6c4cb"
  },
  {
   "cell_type": "code",
   "outputs": [
    {
     "data": {
      "text/plain": "['Thank you so much for your help!',\n 'I really appreciate your assistance.',\n 'Thanks a lot for the support!',\n \"I'm grateful for your help.\",\n 'Much obliged for your assistance.',\n 'Cheers for the guidance.',\n 'Your support means a lot, thank you.',\n \"I can't thank you enough for this.\",\n 'Your help has been invaluable.',\n 'Thanks for everything!',\n \"You've been a great help, thanks!\",\n 'Heartfelt thanks for your assistance.',\n \"I'm so thankful for your help today.\",\n 'Your help is greatly appreciated.',\n 'Many thanks for your assistance!',\n 'I owe you one, thanks!',\n \"You're a lifesaver, thank you.\",\n 'My sincere thanks for all your help.',\n 'I deeply appreciate your help.',\n 'Thank you kindly for your support.',\n 'Thanks a bunch!',\n 'Really appreciate it.',\n 'Big thanks!',\n 'So grateful for this.',\n 'Thanks a ton.',\n 'Cheers for the help.',\n 'Means a lot, thanks.',\n \"Can't thank you enough.\",\n 'Invaluable help, thanks.',\n 'Thanks for everything!',\n 'Thank you!',\n 'Appreciated!',\n 'Thanks!',\n 'Grateful!',\n 'Obliged!',\n 'Cheers!',\n 'Thanks!',\n 'Thankful!',\n 'Invaluable!',\n 'Thanks!',\n 'Great help!',\n 'Heartfelt thanks!',\n 'Thankful!',\n 'Appreciated!',\n 'Many thanks!',\n 'Owe you!',\n 'Lifesaver!',\n 'Sincere thanks!',\n 'Appreciate!',\n 'Thank you!',\n 'Thank you so much for help your!',\n 'I your assistance really appreciate.',\n 'A lot thanks for the support!',\n \"Grateful for I'm your help.\",\n 'Obliged much for your assistance.',\n 'For the guidance cheers.',\n 'Means a lot your support, thank you.',\n \"Thank you enough for this I can't.\",\n 'Has been your help invaluable.',\n 'For thanks everything!',\n \"Been a great help, you've thanks!\",\n 'For your assistance thanks heartfelt.',\n \"Thankful for so I'm your help today.\",\n 'Is greatly your help appreciated.',\n 'For your many thanks assistance!',\n 'You one, I owe thanks!',\n \"A lifesaver, you're thank you.\",\n 'Thanks for my all your help sincere.',\n 'Appreciate your help I deeply.',\n 'Kindly for thank you your support.',\n 'A thanks bunch!',\n 'Appreciate really it.',\n 'Thanks big!',\n 'For this so grateful.',\n 'A thanks ton.',\n 'For the help cheers.',\n 'Thanks, means a lot.',\n \"Thank enough you can't.\",\n 'Thanks, help invaluable.',\n 'Everything for thanks!',\n 'You thank!',\n 'Appreciated!',\n 'Thanks!',\n 'Grateful!',\n 'Obliged!',\n 'Cheers!',\n 'Thanks!',\n 'Thankful!',\n 'Invaluable!',\n 'Thanks!',\n 'Help great!',\n 'Thanks heartfelt!',\n 'Thankful!',\n 'Appreciated!',\n 'Thanks many!',\n 'You owe!',\n 'Lifesaver!',\n 'Thanks sincere!',\n 'Appreciate!',\n \"I'm so thankful for your assistance!\",\n 'I greatly value your support.',\n 'Thank you very much for the help!',\n \"I'm indebted for your assistance.\",\n 'Highly grateful for your support.',\n 'Kudos for the advice.',\n 'Your assistance is highly valued, thanks.',\n \"I'm beyond grateful for this.\",\n 'Your aid has been indispensable.',\n \"Gratitude for all you've done!\",\n \"You've been an incredible support, thank you!\",\n 'Deep gratitude for your support.',\n \"I'm extremely grateful for your assistance today.\",\n 'Your support is deeply appreciated.',\n 'A ton of thanks for your support!',\n 'I owe you a big one, thank you!',\n \"You're a hero, thank you.\",\n 'My heartfelt gratitude for all your assistance.',\n 'I truly value your assistance.',\n 'Thanks sincerely for your support.',\n 'Thank you heaps!',\n 'Truly thankful.',\n 'Huge thanks!',\n 'Extremely thankful for this.',\n 'Thank you so much.',\n 'Kudos for the assistance.',\n 'Highly appreciated, thanks.',\n 'Beyond grateful.',\n 'Indispensable support, thanks.',\n 'Gratitude for all!',\n 'Thanks a million!',\n 'High appreciation!',\n 'Gratitude!',\n 'Extremely grateful!',\n 'Highly thankful!',\n 'Kudos!',\n 'Gratitude!',\n 'Highly thankful!',\n 'Indispensable!',\n 'Gratitude!',\n 'Incredible help!',\n 'Deep gratitude!',\n 'Highly thankful!',\n 'High appreciation!',\n 'A ton of thanks!',\n \"I'm in your debt!\",\n 'Hero!',\n 'Heartfelt gratitude!',\n 'Value greatly!',\n 'Thanks a million!',\n 'Thank you so much for your help!',\n 'I really appreciate your assistance.',\n 'Thanks a lot for the support!',\n \"I'm grateful for your help.\",\n 'Much obliged for your assistance.',\n 'Cheers for the guidance.',\n 'Your support means a lot, thank you.',\n \"I can't thank you enough for this.\",\n 'Your help has been invaluable.',\n 'Thanks for everything!',\n \"You've been a great help, thanks!\",\n 'Heartfelt thanks for your assistance.',\n \"I'm so thankful for your help today.\",\n 'Your help is greatly appreciated.',\n 'Many thanks for your assistance!',\n 'I owe you one, thanks!',\n \"You're a lifesaver, thank you.\",\n 'My sincere thanks for all your help.',\n 'I deeply appreciate your help.',\n 'Thank you kindly for your support.',\n 'Thanks a bunch!',\n 'Really appreciate it.',\n 'Big thanks!',\n 'So grateful for this.',\n 'Thanks a ton.',\n 'Cheers for the help.',\n 'Means a lot, thanks.',\n \"Can't thank you enough.\",\n 'Invaluable help, thanks.',\n 'Thanks for everything!',\n 'Thank you!',\n 'Appreciated!',\n 'Thanks!',\n 'Grateful!',\n 'Obliged!',\n 'Cheers!',\n 'Thanks!',\n 'Thankful!',\n 'Invaluable!',\n 'Thanks!',\n 'Great help!',\n 'Heartfelt thanks!',\n 'Thankful!',\n 'Appreciated!',\n 'Many thanks!',\n 'Owe you!',\n 'Lifesaver!',\n 'Sincere thanks!',\n 'Appreciate!',\n 'Thank you!',\n 'Tank you so much for your help!',\n 'Eye really appreciate your assistance.',\n 'Thanks allot for the support!',\n 'Aim grateful for your help.',\n 'Much obliged for your assistance.',\n 'Cheers for the guidance.',\n 'Your support means allot, thank you.',\n \"Eye can't thank you enough for this.\",\n 'Your help has been invaluable.',\n 'Thanks four everything!',\n \"You've been a grate help, thanks!\",\n 'Heartfelt thanks for your assistance.',\n \"I'm so thankful four your help today.\",\n 'Your help is greatly appreciated.',\n 'Many thanks for your assistance!',\n 'Eye owe you one, thanks!',\n 'Your a lifesaver, thank you.',\n 'My sincere thanks for all your help.',\n 'Eye deeply appreciate your help.',\n 'Thank you kindly four your support.',\n 'Thanks a brunch!',\n 'Really appreciate it.',\n 'Big thanks!',\n 'Sew grateful for this.',\n 'Thanks a ton.',\n 'Cheers four the help.',\n 'Means allot, thanks.',\n \"Can't thank you enough.\",\n 'Invaluable help, thanks.',\n 'Thanks four everything!',\n 'Thank you!',\n 'Appreciated!',\n 'Thanks!',\n 'Grateful!',\n 'Obliged!',\n 'Cheers!',\n 'Thanks!',\n 'Thankful!',\n 'Invaluable!',\n 'Thanks!',\n 'Great help!',\n 'Heartfelt thanks!',\n 'Thankful!',\n 'Appreciated!',\n 'Many thanks!',\n 'Owe you!',\n 'Lifesaver!',\n 'Sincere thanks!',\n 'Appreciate!',\n 'Thank you!',\n 'Thank you so much for your help!',\n 'I really appreciate your assistance.',\n 'Thanks a lot for the support!',\n \"I'm grateful for your help.\",\n 'Much obliged for your assistance.',\n 'Cheers for the guidance.',\n 'Your support means a lot, thank you.',\n \"I can't thank you enough for this.\",\n 'Your help has been invaluable.',\n 'Thanks for everything!',\n \"You've been a great help, thanks!\",\n 'Heartfelt thanks for your assistance.',\n \"I'm so thankful for your help today.\",\n 'Your help is greatly appreciated.',\n 'Many thanks for your assistance!',\n 'I owe you one, thanks!',\n \"You're a lifesaver, thank you.\",\n 'My sincere thanks for all your help.',\n 'I deeply appreciate your help.',\n 'Thank you kindly for your support.',\n 'Thanks a bunch!',\n 'Really appreciate it.',\n 'Big thanks!',\n 'So grateful for this.',\n 'Thanks a ton.',\n 'Cheers for the help.',\n 'Means a lot, thanks.',\n \"Can't thank you enough.\",\n 'Invaluable help, thanks.',\n 'Thanks for everything!',\n 'Thank you!',\n 'Appreciated!',\n 'Thanks!',\n 'Grateful!',\n 'Obliged!',\n 'Cheers!',\n 'Thanks!',\n 'Thankful!',\n 'Invaluable!',\n 'Thanks!',\n 'Great help!',\n 'Heartfelt thanks!',\n 'Thankful!',\n 'Appreciated!',\n 'Many thanks!',\n 'Owe you!',\n 'Lifesaver!',\n 'Sincere thanks!',\n 'Appreciate!',\n 'Thank you!',\n 'Tank you so much for your halp!',\n 'I rally appreciate your assisstance.',\n 'Thanks a loot for the suppurt!',\n \"I'm gratefull for your halp.\",\n 'Much oblige for your assisstance.',\n 'Chears for the guidance.',\n 'Your suport means a lot, tank you.',\n \"I can't tank you enough for this.\",\n 'Your halp has been invaluable.',\n 'Tanks for everything!',\n \"You've been a grate help, tanks!\",\n 'Heartfelt tanks for your assisstance.',\n \"I'm so thankful for your halp today.\",\n 'Your halp is greatly appreciated.',\n 'Manny thanks for your assisstance!',\n 'I owe you one, tanks!',\n \"You're a lifesaver, tank you.\",\n 'My sincere tanks for all your halp.',\n 'I deeply appreciate your halp.',\n 'Tank you kindly for your suport.',\n 'Tanks a bunch!',\n 'Really apprechiate it.',\n 'Big tanks!',\n 'So gratefull for this.',\n 'Tanks a ton.',\n 'Chears for the halp.',\n 'Means a lot, tanks.',\n \"Can't tank you enough.\",\n 'Invaluable halp, tanks.',\n 'Tanks for everything!',\n 'Tank you!',\n 'Appreciated!',\n 'Tanks!',\n 'Gratefull!',\n 'Obliged!',\n 'Chears!',\n 'Tanks!',\n 'Thankfull!',\n 'Invaluable!',\n 'Tanks!',\n 'Grate halp!',\n 'Heartfelt tanks!',\n 'Thankfull!',\n 'Appreciated!',\n 'Manny tanks!',\n 'Owe you!',\n 'Lifesaver!',\n 'Sincere tanks!',\n 'Apprechiate!',\n 'Tank you!']"
     },
     "execution_count": 3,
     "metadata": {},
     "output_type": "execute_result"
    }
   ],
   "source": [
    "#! pip install dotenv langchain_google_genai\n",
    "from interactigen import Interactigen\n",
    "from dotenv import load_dotenv\n",
    "from langchain_google_genai import ChatGoogleGenerativeAI\n",
    "\n",
    "load_dotenv(dotenv_path='../scratch/dev.env')\n",
    "\n",
    "model = ChatGoogleGenerativeAI(model=\"gemini-pro\")\n",
    "\n",
    "interactigen = Interactigen(\n",
    "    model=model,\n",
    ")\n",
    "\n",
    "phrase_utterances = interactigen.generate_phrase_utterances(\n",
    "    base_phrase=\"someone might express appreciation to a bot\",\n",
    "    init_quantity=20,\n",
    ")\n",
    "\n",
    "phrase_utterances"
   ],
   "metadata": {
    "collapsed": false,
    "ExecuteTime": {
     "end_time": "2024-02-21T16:20:49.951380900Z",
     "start_time": "2024-02-21T16:18:33.217966700Z"
    }
   },
   "id": "8326ec837b614d73",
   "execution_count": 3
  }
 ],
 "metadata": {
  "kernelspec": {
   "display_name": "Python 3",
   "language": "python",
   "name": "python3"
  },
  "language_info": {
   "codemirror_mode": {
    "name": "ipython",
    "version": 2
   },
   "file_extension": ".py",
   "mimetype": "text/x-python",
   "name": "python",
   "nbconvert_exporter": "python",
   "pygments_lexer": "ipython2",
   "version": "2.7.6"
  }
 },
 "nbformat": 4,
 "nbformat_minor": 5
}
