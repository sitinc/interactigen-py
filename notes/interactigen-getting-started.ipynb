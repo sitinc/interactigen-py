{
 "cells": [
  {
   "cell_type": "markdown",
   "source": [
    "MIT License\n",
    "\n",
    "Copyright (c) 2024 Justin Randall, Smart Interactive Transformations Inc.\n",
    "\n",
    "Permission is hereby granted, free of charge, to any person obtaining a copy\n",
    "of this software and associated documentation files (the \"Software\"), to deal\n",
    "in the Software without restriction, including without limitation the rights\n",
    "to use, copy, modify, merge, publish, distribute, sublicense, and/or sell\n",
    "copies of the Software, and to permit persons to whom the Software is\n",
    "furnished to do so, subject to the following conditions:\n",
    "\n",
    "The above copyright notice and this permission notice shall be included in all\n",
    "copies or substantial portions of the Software.\n",
    "\n",
    "THE SOFTWARE IS PROVIDED \"AS IS\", WITHOUT WARRANTY OF ANY KIND, EXPRESS OR\n",
    "IMPLIED, INCLUDING BUT NOT LIMITED TO THE WARRANTIES OF MERCHANTABILITY,\n",
    "FITNESS FOR A PARTICULAR PURPOSE AND NONINFRINGEMENT. IN NO EVENT SHALL THE\n",
    "AUTHORS OR COPYRIGHT HOLDERS BE LIABLE FOR ANY CLAIM, DAMAGES OR OTHER\n",
    "LIABILITY, WHETHER IN AN ACTION OF CONTRACT, TORT OR OTHERWISE, ARISING FROM,\n",
    "OUT OF OR IN CONNECTION WITH THE SOFTWARE OR THE USE OR OTHER DEALINGS IN THE\n",
    "SOFTWARE."
   ],
   "metadata": {
    "collapsed": false
   },
   "id": "e9a6b35905cf2bad"
  },
  {
   "cell_type": "markdown",
   "source": [
    "# Overview\n",
    "\n",
    "The purpose of this notebook is to serve as basic documentation for using the Interactigen library to generate base and augmented utterance phrases to use with natural language understanding (NLU) intent classification, or with Large Language Model (LLM) fine-tuning.\n",
    "\n",
    "The Interactigen module is built on LangChain.  The decision to use LangChain enables experimenting with various models with minimal code adjustments.  Already have code to load and configure your favourite LangChain ChatModel?  Great!  Let's use that.\n",
    "\n",
    "The output results for each run is a JSON array for downstream use: write to a file, split test/train utterances, and more."
   ],
   "metadata": {
    "collapsed": false
   },
   "id": "5fa6a1d230229fd6"
  },
  {
   "cell_type": "markdown",
   "source": [
    "## Generate Phrase Utterances with OpenAI\n",
    "\n",
    "Here is an example loading the OpenAI gpt-4-0125-preview model for generating the utterances.\n",
    "\n",
    "Make sure you have an environment file with the path *scratch/dev.env* and set the OPENAI_API_KEY and (optionally) LANGCHAIN_API_KEY and LANGCHAIN_PROJECT if you are tracing with LangSmith:\n",
    "```scratch/dev.env:\n",
    "OPENAI_API_KEY=<OpenAI API Key>\n",
    "LANGCHAIN_API_KEY=<LangSmith API Key>\n",
    "LANGCHAIN_PROJECT=<LangSmith Project Name>\n",
    "```"
   ],
   "metadata": {
    "collapsed": false
   },
   "id": "8ccbed34efeeace7"
  },
  {
   "cell_type": "code",
   "outputs": [
    {
     "data": {
      "text/plain": "['Thank you so much for your help!',\n 'I really appreciate your assistance.',\n 'Thanks a lot for the support!',\n 'Much obliged for your help!',\n \"I'm really grateful for your guidance.\",\n 'Your support means a lot to me, thank you.',\n 'Thanks for being so helpful!',\n \"I can't thank you enough for your assistance.\",\n 'Your help has been invaluable, thank you.',\n \"I'm so thankful for your support!\",\n \"Thanks for everything you've done.\",\n 'I appreciate all your help more than words can say.',\n \"You've been a great help, thank you.\",\n 'Your assistance is much appreciated!',\n 'Thank you for going above and beyond!',\n \"I'm truly grateful for all your help.\",\n \"You've been incredibly helpful, thank you!\",\n 'Thank you for being so supportive.',\n 'Your help has not gone unnoticed, thank you.',\n 'I value your help tremendously, thanks a lot.',\n 'Thanks a bunch!',\n 'Really appreciate it.',\n 'Thanks for the help!',\n 'Much obliged!',\n 'So grateful!',\n 'Thanks a ton!',\n 'Super helpful, thanks!',\n \"Can't thank you enough.\",\n 'Invaluable help, thanks!',\n 'So thankful!',\n 'Thanks for everything.',\n 'Really appreciate all the help.',\n 'Great help, thanks!',\n 'Really appreciate it!',\n 'Thanks for everything!',\n 'Truly grateful.',\n 'Incredibly helpful, thanks!',\n 'Thanks for the support.',\n \"Your help's noticed, thanks.\",\n 'Value your help, thanks.',\n 'Thanks!',\n 'Appreciated!',\n 'Thank you!',\n 'Grateful!',\n 'Much thanks!',\n 'Thankful!',\n 'So helpful!',\n \"Can't thank!\",\n 'Invaluable!',\n 'Thankful!',\n 'Thanks!',\n 'Appreciate it!',\n 'Great help!',\n 'Appreciated!',\n 'Above and beyond!',\n 'Truly grateful!',\n 'Incredibly helpful!',\n 'So supportive!',\n 'Not unnoticed!',\n 'Tremendously valued!',\n 'Thank you so much for your help!',\n 'I really appreciate your assistance.',\n 'Thanks a lot for the support!',\n 'Obliged much for your help!',\n \"I'm really grateful for your guidance.\",\n 'Your support means a lot to me, thank you.',\n 'Thanks for being so helpful!',\n \"I can't thank you enough for your assistance.\",\n 'Your help has been invaluable, thank you.',\n \"I'm so thankful for your support!\",\n \"Thanks for everything you've done.\",\n 'I appreciate all your help more than words can say.',\n \"You've been a great help, thank you.\",\n 'Your assistance is much appreciated!',\n 'Thank you for going above and beyond!',\n \"I'm truly grateful for all your help.\",\n \"You've been incredibly helpful, thank you!\",\n 'Thank you for being so supportive.',\n 'Your help has not gone unnoticed, thank you.',\n 'I value your help tremendously, thanks a lot.',\n 'Thanks a bunch!',\n 'Really appreciate it.',\n 'Thanks for the help!',\n 'Much obliged!',\n 'So grateful!',\n 'Thanks a ton!',\n 'Super helpful, thanks!',\n \"Can't thank you enough.\",\n 'Invaluable help, thanks!',\n 'So thankful!',\n 'Thanks for everything.',\n 'Really appreciate all the help.',\n 'Great help, thanks!',\n 'Really appreciate it!',\n 'Thanks for everything!',\n 'Truly grateful.',\n 'Incredibly helpful, thanks!',\n 'Thanks for the support.',\n \"Your help's noticed, thanks.\",\n 'Value your help, thanks.',\n 'Thanks!',\n 'Appreciated!',\n 'Thank you!',\n 'Grateful!',\n 'Much thanks!',\n 'Thankful!',\n 'So helpful!',\n \"Can't thank!\",\n 'Invaluable!',\n 'Thankful!',\n 'Thanks!',\n 'Appreciate it!',\n 'Great help!',\n 'Appreciated!',\n 'Above and beyond!',\n 'Truly grateful!',\n 'Incredibly helpful!',\n 'So supportive!',\n 'Not unnoticed!',\n 'Tremendously valued!',\n \"I'm deeply thankful for your support!\",\n 'I greatly value your help.',\n 'Many thanks for your assistance!',\n \"I'm indebted for your support!\",\n \"I'm extremely thankful for your advice.\",\n 'Your assistance is incredibly important to me, thanks.',\n 'Gratitude for being so accommodating!',\n \"It's impossible to express my gratitude for your help.\",\n 'Your aid has been essential, thank you.',\n \"I'm exceedingly grateful for your assistance!\",\n \"Gratitude for all you've contributed.\",\n 'I cherish all your support more than words can express.',\n \"You've been an immense help, thanks.\",\n 'Your help is greatly valued!',\n 'Thanks for exceeding expectations!',\n \"I'm profoundly thankful for all your support.\",\n \"You've been exceptionally accommodating, thanks!\",\n 'Thanks for being so encouraging.',\n 'Your assistance has been noticed, thank you.',\n 'I highly value your support, many thanks.',\n 'Thank you immensely!',\n 'Deeply appreciated.',\n 'Grateful for the assistance!',\n 'I owe you one!',\n 'Extremely thankful!',\n 'Thank you very much!',\n 'Exceptionally useful, thanks!',\n 'Beyond grateful.',\n 'Essential support, thanks!',\n 'Exceedingly thankful!',\n 'Gratitude for all.',\n 'Deep appreciation for all the help.',\n 'Immense help, thanks!',\n 'Deeply appreciated!',\n 'Gratitude for all!',\n 'Profoundly thankful.',\n 'Exceptionally useful, thanks!',\n 'Gratitude for the assistance.',\n 'Assistance noticed, thanks.',\n 'Cherish your support, thanks.',\n 'Gratitude!',\n 'Valued!',\n 'Thanks a million!',\n 'Thankful beyond words!',\n 'Loads of thanks!',\n 'Filled with gratitude!',\n 'Extremely helpful!',\n 'Beyond grateful!',\n 'Essential!',\n 'Filled with thankfulness!',\n 'Gratitude!',\n 'Value it!',\n 'Immense assistance!',\n 'Valued!',\n 'Exceeding expectations!',\n 'Profoundly thankful!',\n 'Exceptionally supportive!',\n 'Highly encouraging!',\n 'Acknowledged!',\n 'Greatly appreciated!',\n 'Thank you so much for your help!',\n 'I really appreciate your assistance.',\n 'Thanks a lot for the support!',\n 'Much obliged for your help!',\n \"I'm really grateful for your guidance.\",\n 'Your support means a lot to me, thank you.',\n 'Thanks for being so helpful!',\n \"I can't thank you enough for your assistance.\",\n 'Your help has been invaluable, thank you.',\n \"I'm so thankful for your support!\",\n \"Thanks for everything you've done.\",\n 'I appreciate all your help more than words can say.',\n \"You've been a great help, thank you.\",\n 'Your assistance is much appreciated!',\n 'Thank you for going above and beyond!',\n \"I'm truly grateful for all your help.\",\n \"You've been incredibly helpful, thank you!\",\n 'Thank you for being so supportive.',\n 'Your help has not gone unnoticed, thank you.',\n 'I value your help tremendously, thanks a lot.',\n 'Thanks a bunch!',\n 'Really appreciate it.',\n 'Thanks for the help!',\n 'Much obliged!',\n 'So grateful!',\n 'Thanks a ton!',\n 'Super helpful, thanks!',\n \"Can't thank you enough.\",\n 'Invaluable help, thanks!',\n 'So thankful!',\n 'Thanks for everything.',\n 'Really appreciate all the help.',\n 'Great help, thanks!',\n 'Really appreciate it!',\n 'Thanks for everything!',\n 'Truly grateful.',\n 'Incredibly helpful, thanks!',\n 'Thanks for the support.',\n \"Your help's noticed, thanks.\",\n 'Value your help, thanks.',\n 'Thanks!',\n 'Appreciated!',\n 'Thank you!',\n 'Grateful!',\n 'Much thanks!',\n 'Thankful!',\n 'So helpful!',\n \"Can't thank!\",\n 'Invaluable!',\n 'Thankful!',\n 'Thanks!',\n 'Appreciate it!',\n 'Great help!',\n 'Appreciated!',\n 'Above and beyond!',\n 'Truly grateful!',\n 'Incredibly helpful!',\n 'So supportive!',\n 'Not unnoticed!',\n 'Tremendously valued!',\n 'Tank you so much for your help!',\n 'Eye really appreciate your assistance.',\n 'Thinks a lot for the support!',\n 'Mush obliged for your help!',\n 'Aim really grateful for your guidance.',\n 'Your support means a lot to me, tank you.',\n 'Thinks for being so helpful!',\n \"Eye can't tank you enough for your assistance.\",\n 'Your help has been invaluable, tank you.',\n 'Aim so thankful for your support!',\n \"Thinks for everything you've done.\",\n 'Eye appreciate all your help more than words can say.',\n \"You've been a grate help, tank you.\",\n 'Your assistance is much appreciated!',\n 'Tank you for going above and beyond!',\n 'Aim truly grateful for all your help.',\n \"You've been incredibly helpful, tank you!\",\n 'Tank you for being so supportive.',\n 'Your help has not gone unnoticed, tank you.',\n 'Eye value your help tremendously, thanks a lot.',\n 'Thinks a bunch!',\n 'Really appreciate it.',\n 'Thinks for the help!',\n 'Mush obliged!',\n 'Sew grateful!',\n 'Thinks a ton!',\n 'Super helpful, thinks!',\n \"Can't tank you enough.\",\n 'Invaluable help, thinks!',\n 'Sew thankful!',\n 'Thinks for everything.',\n 'Really appreciate all the help.',\n 'Grate help, thinks!',\n 'Really appreciate it!',\n 'Thinks for everything!',\n 'Truly grateful.',\n 'Incredibly helpful, thinks!',\n 'Thinks for the support.',\n \"Your help's noticed, thinks.\",\n 'Value your help, thinks.',\n 'Thinks!',\n 'Appreciated!',\n 'Tank you!',\n 'Grateful!',\n 'Mush thanks!',\n 'Thankful!',\n 'Sew helpful!',\n \"Can't tank!\",\n 'Invaluable!',\n 'Thankful!',\n 'Thinks!',\n 'Appreciate it!',\n 'Grate help!',\n 'Appreciated!',\n 'Above and beyond!',\n 'Truly grateful!',\n 'Incredibly helpful!',\n 'Sew supportive!',\n 'Not unnoticed!',\n 'Tremendously valued!',\n 'Thank you so much for your help!',\n 'I really appreciate your assistance.',\n 'Thanks a lot for the support!',\n 'Much obliged for your help!',\n \"I'm really grateful for your guidance.\",\n 'Your support means a lot to me, thank you.',\n 'Thanks for being so helpful!',\n \"I can't thank you enough for your assistance.\",\n 'Your help has been invaluable, thank you.',\n \"I'm so thankful for your support!\",\n \"Thanks for everything you've done.\",\n 'I appreciate all your help more than words can say.',\n \"You've been a great help, thank you.\",\n 'Your assistance is much appreciated!',\n 'Thank you for going above and beyond!',\n \"I'm truly grateful for all your help.\",\n \"You've been incredibly helpful, thank you!\",\n 'Thank you for being so supportive.',\n 'Your help has not gone unnoticed, thank you.',\n 'I value your help tremendously, thanks a lot.',\n 'Thanks a bunch!',\n 'Really appreciate it.',\n 'Thanks for the help!',\n 'Much obliged!',\n 'So grateful!',\n 'Thanks a ton!',\n 'Super helpful, thanks!',\n \"Can't thank you enough.\",\n 'Invaluable help, thanks!',\n 'So thankful!',\n 'Thanks for everything.',\n 'Really appreciate all the help.',\n 'Great help, thanks!',\n 'Really appreciate it!',\n 'Thanks for everything!',\n 'Truly grateful.',\n 'Incredibly helpful, thanks!',\n 'Thanks for the support.',\n \"Your help's noticed, thanks.\",\n 'Value your help, thanks.',\n 'Thanks!',\n 'Appreciated!',\n 'Thank you!',\n 'Grateful!',\n 'Much thanks!',\n 'Thankful!',\n 'So helpful!',\n \"Can't thank!\",\n 'Invaluable!',\n 'Thankful!',\n 'Thanks!',\n 'Appreciate it!',\n 'Great help!',\n 'Appreciated!',\n 'Above and beyond!',\n 'Truly grateful!',\n 'Incredibly helpful!',\n 'So supportive!',\n 'Not unnoticed!',\n 'Tremendously valued!',\n 'Tank you so much for your help!',\n 'Eye really appreciate your assistance.',\n 'Thanks allot for the support!',\n 'Much obliged for your halp!',\n \"Aye'm really grateful for your guidance.\",\n 'Your support means allot to me, tank you.',\n 'Thanks for bean so helpful!',\n \"Eye can't tank you enough for your assistance.\",\n 'Your halp has been invaluable, tank you.',\n \"Aye'm so thankful for your support!\",\n \"Thanks for everything you've done.\",\n 'Eye appreciate all your halp more than words can say.',\n \"You've bean a grate help, tank you.\",\n 'Your assistance is much appreciated!',\n 'Tank you for going above and beyond!',\n \"Aye'm truly grateful for all your halp.\",\n \"You've bean incredibly helpful, tank you!\",\n 'Tank you for being so supportive.',\n 'Your halp has not gone unnoticed, tank you.',\n 'Eye value your halp tremendously, thanks allot.',\n 'Thanks a brunch!',\n 'Really appreciate eat.',\n 'Thanks for the halp!',\n 'Much obliged!',\n 'Sew grateful!',\n 'Thanks a ton!',\n 'Super helpful, tanks!',\n \"Can't tank you enough.\",\n 'Invaluable halp, tanks!',\n 'Sew thankful!',\n 'Thanks for everything.',\n 'Really appreciate all the halp.',\n 'Grate help, tanks!',\n 'Really appreciate eat!',\n 'Thanks for everything!',\n 'Truly grateful.',\n 'Incredibly helpful, tanks!',\n 'Thanks for the support.',\n \"Your halp's noticed, tanks.\",\n 'Value your halp, tanks.',\n 'Tanks!',\n 'Appreciated!',\n 'Tank you!',\n 'Grateful!',\n 'Much tanks!',\n 'Thankful!',\n 'Sew helpful!',\n \"Can't tank!\",\n 'Invaluable!',\n 'Thankful!',\n 'Tanks!',\n 'Appreciate eat!',\n 'Grate help!',\n 'Appreciated!',\n 'Above and beyond!',\n 'Truly grateful!',\n 'Incredibly helpful!',\n 'Sew supportive!',\n 'Not unnoticed!',\n 'Tremendously valued!']"
     },
     "execution_count": 2,
     "metadata": {},
     "output_type": "execute_result"
    }
   ],
   "source": [
    "#! pip install dotenv langchain_openai\n",
    "from interactigen import Interactigen\n",
    "from dotenv import load_dotenv\n",
    "from langchain_openai import ChatOpenAI\n",
    "\n",
    "load_dotenv(dotenv_path='../scratch/dev.env')\n",
    "\n",
    "model = ChatOpenAI(model=\"gpt-4-0125-preview\")\n",
    "\n",
    "interactigen = Interactigen(\n",
    "    model=model,\n",
    ")\n",
    "\n",
    "phrase_utterances = interactigen.generate_phrase_utterances(\n",
    "    base_phrase=\"someone might express appreciation to a bot\",\n",
    "    init_quantity=20,\n",
    ")\n",
    "\n",
    "phrase_utterances"
   ],
   "metadata": {
    "collapsed": false,
    "ExecuteTime": {
     "end_time": "2024-02-27T17:47:09.960701Z",
     "start_time": "2024-02-27T17:44:19.842036Z"
    }
   },
   "id": "c17238bcce7d59cc",
   "execution_count": 2
  },
  {
   "cell_type": "markdown",
   "source": [
    "## Generate Phrase Utterances with Google Generative AI\n",
    "\n",
    "Here is an example loading the Google Generative AI gemini-pro model for generating the utterances.\n",
    "\n",
    "Make sure you have an environment file with the path *scratch/dev.env* and set the GOOGLE_API_KEY and (optionally) LANGCHAIN_API_KEY and LANGCHAIN_PROJECT if you are tracing with LangSmith:\n",
    "```scratch/dev.env:\n",
    "GOOGLE_API_KEY=<Google Generative AI API Key>\n",
    "LANGCHAIN_API_KEY=<LangSmith API Key>\n",
    "LANGCHAIN_PROJECT=<LangSmith Project Name>\n",
    "```"
   ],
   "metadata": {
    "collapsed": false
   },
   "id": "da6165e54af6c4cb"
  },
  {
   "cell_type": "code",
   "outputs": [
    {
     "data": {
      "text/plain": "['Thank you for your help.',\n 'Appreciate the assistance.',\n 'I really appreciate your help.',\n 'This was very helpful, thank you.',\n 'Thanks a lot for your help.',\n \"I'm very grateful for your help.\",\n 'Thank you for your time and effort.',\n 'I appreciate your patience and help.',\n 'Thanks for your help, it was very useful.',\n 'I really appreciate your help and guidance.',\n 'Thank you for your excellent service.',\n \"I'm impressed with your knowledge and assistance.\",\n 'Thank you for going above and beyond.',\n \"I'm very happy with the help you provided.\",\n 'Thanks for your prompt and efficient response.',\n 'I appreciate your thorough and informative answers.',\n 'Thank you for your dedication and support.',\n \"I'm very grateful for your assistance.\",\n 'I appreciate your professionalism and expertise.',\n 'Thanks for helping.',\n 'Liked your help.',\n 'Thanks a lot.',\n 'This was helpful.',\n 'Thanks a lot.',\n 'I appreciate your help.',\n 'Thanks for your time.',\n 'I appreciate your help.',\n 'Thanks, it was useful.',\n 'I appreciate your help.',\n 'Thanks for your service.',\n \"I'm impressed with your help.\",\n 'Thanks for helping me out.',\n \"I'm happy with your help.\",\n 'Thanks for your quick reply.',\n 'I appreciate your answers.',\n 'Thanks for your support.',\n 'I appreciate your assistance.',\n 'I appreciate your expertise.',\n 'Thanks.',\n 'Appreciate it.',\n 'Thanks a lot.',\n 'Really appreciate it.',\n 'Very helpful.',\n 'Thank you.',\n 'Impressed.',\n 'Excellent service.',\n 'Above and beyond.',\n 'Very happy.',\n 'Prompt response.',\n 'Thorough answers.',\n 'Professional.',\n 'Help you for your thank.',\n 'Assistance appreciate the.',\n 'Help your I appreciate really.',\n 'Thank you was this helpful very.',\n 'Help your for thanks a lot.',\n \"Help your grateful I'm very.\",\n 'Time and effort your thank you for.',\n 'Help and patience your appreciate I.',\n 'Useful was it very help your thanks for.',\n 'Help and guidance your appreciate I really.',\n 'Service excellent your thank you for.',\n \"Knowledge and assistance your impressed I'm with.\",\n 'Beyond above going for thank you.',\n \"Provided you help with happy I'm very.\",\n 'Response efficient and prompt your thanks for.',\n 'Answers informative and thorough your appreciate I.',\n 'Support and dedication your thank you for.',\n \"Assistance your grateful I'm very.\",\n 'Expertise and professionalism your appreciate I.',\n 'Helping thanks for.',\n 'Help your liked.',\n 'Lot a thanks.',\n 'Helpful this was.',\n 'Lot a thanks.',\n 'Help your appreciate I',\n 'Time your thanks for.',\n 'Help your appreciate I.',\n 'Useful it was thanks.',\n 'Help your appreciate I.',\n 'Service your thanks for.',\n \"Help your impressed I'm with.\",\n 'Out me helping for thanks.',\n \"Help your happy I'm with.\",\n 'Reply quick your thanks for.',\n 'Answers your appreciate I.',\n 'Support your thanks for.',\n 'Assistance your appreciate I.',\n 'Expertise your appreciate I.',\n 'Thanks.',\n 'Appreciate it.',\n 'Lot a thanks.',\n 'Appreciate it really.',\n 'Helpful very.',\n 'Thank you.',\n 'Impressed.',\n 'Service excellent.',\n 'Beyond above.',\n 'Happy very.',\n 'Response prompt.',\n 'Answers thorough.',\n 'Professional.',\n 'Many thanks for your assistance.',\n 'Grateful for the support.',\n 'Deeply appreciate your help.',\n 'This was immensely helpful, thank you.',\n 'Much obliged for your help.',\n \"I'm exceptionally thankful for your help.\",\n 'Thank you for your time and effort.',\n 'I value your patience and help.',\n 'Thanks for your help, it was incredibly useful.',\n 'I truly appreciate your help and guidance.',\n 'Thank you for your remarkable service.',\n \"I'm astounded by your knowledge and assistance.\",\n 'Thank you for exceeding expectations.',\n \"I'm highly satisfied with the help you provided.\",\n 'Thanks for your timely and efficient response.',\n 'I appreciate your comprehensive and informative answers.',\n 'Thank you for your commitment and support.',\n \"I'm very grateful for your assistance.\",\n 'I appreciate your professionalism and knowledge.',\n 'Thanks for lending a hand.',\n 'Enjoyed your help.',\n 'Much obliged.',\n 'This was beneficial.',\n 'Many thanks.',\n 'I appreciate your assistance.',\n 'Thanks for your time.',\n 'I appreciate your help.',\n 'Thanks, it was beneficial.',\n 'I appreciate your help.',\n 'Thanks for your service.',\n \"I'm impressed with your help.\",\n 'Thanks for helping me out.',\n \"I'm happy with your help.\",\n 'Thanks for your swift reply.',\n 'I appreciate your responses.',\n 'Thanks for your support.',\n 'I appreciate your assistance.',\n 'I appreciate your expertise.',\n 'Thanks.',\n 'Appreciate it.',\n 'Much obliged.',\n 'Truly appreciate it.',\n 'Very helpful.',\n 'Thank you.',\n 'Impressive.',\n 'Exceptional service.',\n 'Above and beyond.',\n 'Very happy.',\n 'Prompt response.',\n 'Thorough answers.',\n 'Professional.',\n 'Thank you for your elp.',\n 'Appreciate the assistance.',\n 'I really appreciate your elp.',\n 'This was very elpful, thank you.',\n 'Thanks a lot for your elp.',\n \"I'm very grateful for your elp.\",\n 'Thank you for your time and effort.',\n 'I appreciate your patience and elp.',\n 'Thanks for your elp, it was very useful.',\n 'I really appreciate your elp and guidance.',\n 'Thank you for your excellent service.',\n \"I'm impressed with your knowledge and assistance.\",\n 'Thank you for going above and beyond.',\n \"I'm very appy with the elp you provided.\",\n 'Thanks for your prompt and efficient response.',\n 'I appreciate your thorough and informative answers.',\n 'Thank you for your dedication and support.',\n \"I'm very grateful for your assistance.\",\n 'I appreciate your professionalism and expertise.',\n 'Thanks for elping.',\n 'Liked your elp.',\n 'Thanks a lot.',\n 'This was elpful.',\n 'Thanks a lot.',\n 'I appreciate your elp.',\n 'Thanks for your time.',\n 'I appreciate your elp.',\n 'Thanks, it was useful.',\n 'I appreciate your elp.',\n 'Thanks for your service.',\n \"I'm impressed with your elp.\",\n 'Thanks for elping me out.',\n \"I'm appy with your elp.\",\n 'Thanks for your quick reply.',\n 'I appreciate your answers.',\n 'Thanks for your support.',\n 'I appreciate your assistance.',\n 'I appreciate your expertise.',\n 'Thanks.',\n 'Appreciate it.',\n 'Thanks a lot.',\n 'Really appreciate it.',\n 'Very elpful.',\n 'Thank you.',\n 'Impressed.',\n 'Excellent service.',\n 'Above and beyond.',\n 'Very appy.',\n 'Prompt response.',\n 'Thorough answers.',\n 'Professional.',\n 'Thank you for your hep.',\n 'Appreciate be assistance.',\n 'I really appreciate your hep.',\n 'This was very hepful, bank you.',\n 'Bunks a bot for your hep.',\n \"I'm very grateful for your hep.\",\n 'Bank you for your dime and effort.',\n 'I appreciate your patience and hep.',\n 'Bunks for your hep, it was very useful.',\n 'I really appreciate your hep and guidance.',\n 'Bank you for your excellent service.',\n \"I'm impressed with your knowledge and assistance.\",\n 'Bank you for going above and beyond.',\n \"I'm very happy with be hep you provided.\",\n 'Bunks for your prompt and efficient response.',\n 'I appreciate your borough and informative answers.',\n 'Bank you for your dedication and support.',\n \"I'm very grateful for your assistance.\",\n 'I appreciate your professionalism and expertise.',\n 'Bunks for hepbing.',\n 'Liked your hep.',\n 'Bunks a bot.',\n 'This was hepful.',\n 'Bunks a bot.',\n 'I appreciate your hep.',\n 'Bunks for your dime.',\n 'I appreciate your hep.',\n 'Bunks, it was useful.',\n 'I appreciate your hep.',\n 'Bunks for your service.',\n \"I'm impressed with your hep.\",\n 'Bunks for hepbing me out.',\n \"I'm happy with your hep.\",\n 'Bunks for your quick reply.',\n 'I appreciate your answers.',\n 'Bunks for your support.',\n 'I appreciate your assistance.',\n 'I appreciate your expertise.',\n 'Bunks.',\n 'Appreciate it.',\n 'Bunks a bot.',\n 'Really appreciate it.',\n 'Very hepful.',\n 'Bank you.',\n 'Impressed.',\n 'Excellent service.',\n 'Above and beyond.',\n 'Very happy.',\n 'Prompt response.',\n 'Borough answers.',\n 'Professional.']"
     },
     "execution_count": 1,
     "metadata": {},
     "output_type": "execute_result"
    }
   ],
   "source": [
    "#! pip install dotenv langchain_google_genai\n",
    "from interactigen import Interactigen\n",
    "from dotenv import load_dotenv\n",
    "from langchain_google_genai import ChatGoogleGenerativeAI\n",
    "\n",
    "load_dotenv(dotenv_path='../scratch/dev.env')\n",
    "\n",
    "model = ChatGoogleGenerativeAI(model=\"gemini-pro\", convert_system_message_to_human=True)\n",
    "\n",
    "interactigen = Interactigen(\n",
    "    model=model,\n",
    ")\n",
    "\n",
    "phrase_utterances = interactigen.generate_phrase_utterances(\n",
    "    base_phrase=\"someone might express appreciation to a bot\",\n",
    "    init_quantity=20,\n",
    ")\n",
    "\n",
    "phrase_utterances"
   ],
   "metadata": {
    "collapsed": false,
    "ExecuteTime": {
     "end_time": "2024-02-28T20:04:27.743765Z",
     "start_time": "2024-02-28T20:03:04.071448Z"
    }
   },
   "id": "8326ec837b614d73",
   "execution_count": 1
  },
  {
   "cell_type": "code",
   "outputs": [],
   "source": [],
   "metadata": {
    "collapsed": false
   },
   "id": "409565f063f3eddc"
  }
 ],
 "metadata": {
  "kernelspec": {
   "display_name": "Python 3",
   "language": "python",
   "name": "python3"
  },
  "language_info": {
   "codemirror_mode": {
    "name": "ipython",
    "version": 2
   },
   "file_extension": ".py",
   "mimetype": "text/x-python",
   "name": "python",
   "nbconvert_exporter": "python",
   "pygments_lexer": "ipython2",
   "version": "2.7.6"
  }
 },
 "nbformat": 4,
 "nbformat_minor": 5
}
