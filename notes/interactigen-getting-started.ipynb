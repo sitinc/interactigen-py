{
 "cells": [
  {
   "cell_type": "markdown",
   "source": [
    "MIT License\n",
    "\n",
    "Copyright (c) 2024 Justin Randall, Smart Interactive Transformations Inc.\n",
    "\n",
    "Permission is hereby granted, free of charge, to any person obtaining a copy\n",
    "of this software and associated documentation files (the \"Software\"), to deal\n",
    "in the Software without restriction, including without limitation the rights\n",
    "to use, copy, modify, merge, publish, distribute, sublicense, and/or sell\n",
    "copies of the Software, and to permit persons to whom the Software is\n",
    "furnished to do so, subject to the following conditions:\n",
    "\n",
    "The above copyright notice and this permission notice shall be included in all\n",
    "copies or substantial portions of the Software.\n",
    "\n",
    "THE SOFTWARE IS PROVIDED \"AS IS\", WITHOUT WARRANTY OF ANY KIND, EXPRESS OR\n",
    "IMPLIED, INCLUDING BUT NOT LIMITED TO THE WARRANTIES OF MERCHANTABILITY,\n",
    "FITNESS FOR A PARTICULAR PURPOSE AND NONINFRINGEMENT. IN NO EVENT SHALL THE\n",
    "AUTHORS OR COPYRIGHT HOLDERS BE LIABLE FOR ANY CLAIM, DAMAGES OR OTHER\n",
    "LIABILITY, WHETHER IN AN ACTION OF CONTRACT, TORT OR OTHERWISE, ARISING FROM,\n",
    "OUT OF OR IN CONNECTION WITH THE SOFTWARE OR THE USE OR OTHER DEALINGS IN THE\n",
    "SOFTWARE."
   ],
   "metadata": {
    "collapsed": false
   },
   "id": "e9a6b35905cf2bad"
  },
  {
   "cell_type": "markdown",
   "source": [
    "# Overview\n",
    "\n",
    "The purpose of this notebook is to serve as basic documentation for using the Interactigen library to generate base and augmented utterance phrases to use with natural language understanding (NLU) intent classification, or with Large Language Model (LLM) fine-tuning.\n",
    "\n",
    "The Interactigen module is built on LangChain.  The decision to use LangChain enables experimenting with various models with minimal code adjustments.  Already have code to load and configure your favourite LangChain ChatModel?  Great!  Let's use that.\n",
    "\n",
    "The output results for each run is a JSON array for downstream use: write to a file, split test/train utterances, and more."
   ],
   "metadata": {
    "collapsed": false
   },
   "id": "5fa6a1d230229fd6"
  },
  {
   "cell_type": "markdown",
   "source": [
    "## Generate Phrase Utterances with OpenAI\n",
    "\n",
    "Here is are two examples loading the OpenAI gpt-4-0125-preview and gpt-3.5-turbo-0125 models for generating the utterances.\n",
    "\n",
    "Make sure you have an environment file with the path *scratch/dev.env* and set the OPENAI_API_KEY and (optionally) LANGCHAIN_API_KEY and LANGCHAIN_PROJECT if you are tracing with LangSmith:\n",
    "```scratch/dev.env:\n",
    "OPENAI_API_KEY=<OpenAI API Key>\n",
    "LANGCHAIN_API_KEY=<LangSmith API Key>\n",
    "LANGCHAIN_PROJECT=<LangSmith Project Name>\n",
    "```"
   ],
   "metadata": {
    "collapsed": false
   },
   "id": "8ccbed34efeeace7"
  },
  {
   "cell_type": "code",
   "outputs": [
    {
     "name": "stdout",
     "output_type": "stream",
     "text": [
      "240\n"
     ]
    },
    {
     "data": {
      "text/plain": "['Thank you so much for your help!',\n 'I really appreciate your assistance.',\n \"You've been incredibly helpful, thanks!\",\n 'Much obliged for the information.',\n \"I can't thank you enough for your support.\",\n 'Your help has been invaluable, thank you.',\n 'Grateful for all your assistance!',\n 'Thanks a ton for your guidance.',\n \"You've been a great help, cheers!\",\n 'I appreciate your quick response, thanks.',\n 'Your support means a lot, thank you.',\n 'Thanks for going above and beyond!',\n 'Thank you for your patience and help.',\n \"I'm so grateful for your assistance.\",\n 'Your help has not gone unnoticed, thank you.',\n 'Thanks for providing exactly what I needed.',\n 'Heartfelt thanks for your guidance.',\n 'Thank you for being so helpful!',\n \"I appreciate everything you've done, thanks.\",\n 'Your assistance is greatly appreciated, thank you.',\n 'Thanks a bunch!',\n 'Really appreciate it.',\n 'Super helpful, thanks!',\n 'Thanks for the info.',\n \"Can't thank you enough.\",\n \"Your help's been great, thanks.\",\n 'So grateful!',\n 'Thanks a lot!',\n 'Big help, cheers!',\n 'Appreciate the quick help.',\n 'Thanks, means a lot.',\n 'Thanks for the extra mile!',\n 'Thanks for being patient.',\n 'So grateful for your help.',\n \"Your help's noticed, thanks.\",\n 'Exactly what I needed, thanks.',\n 'Really thankful for your guidance.',\n 'So helpful, thank you!',\n 'Appreciate your efforts, thanks.',\n 'Thanks, really appreciate it.',\n 'Thanks!',\n 'Appreciated.',\n 'Helpful!',\n 'Obliged.',\n 'Grateful!',\n 'Invaluable.',\n 'Thanks a ton!',\n 'Cheers!',\n 'Quick response.',\n 'Means a lot.',\n 'Above and beyond!',\n 'Patience.',\n 'So grateful.',\n 'Not unnoticed.',\n 'Exactly what I needed.',\n 'Heartfelt thanks.',\n 'So helpful!',\n 'Everything done.',\n 'Greatly appreciated.',\n 'Thank you.',\n 'Thank you so much for help your!',\n 'I really your appreciate assistance.',\n \"You've incredibly been helpful, thanks!\",\n 'Much for obliged the information.',\n \"I can't you thank enough for support your.\",\n 'Your has help been invaluable, thank you.',\n 'Grateful all for your assistance!',\n 'Thanks a for ton your guidance.',\n \"You've a been great help, cheers!\",\n 'I your appreciate quick response, thanks.',\n 'Your means support a lot, thank you.',\n 'Thanks for above going and beyond!',\n 'Thank for you your patience and help.',\n \"I'm grateful so for your assistance.\",\n 'Your has help not gone unnoticed, thank you.',\n 'Thanks for exactly providing what I needed.',\n 'Heartfelt for thanks your guidance.',\n 'Thank for you being so helpful!',\n \"I everything appreciate you've done, thanks.\",\n 'Your is assistance greatly appreciated, thank you.',\n 'Thanks bunch a!',\n 'Really it appreciate.',\n 'Super, thanks helpful!',\n 'Thanks the for info.',\n \"Can't you thank enough.\",\n \"Your been help's great, thanks.\",\n 'So, grateful!',\n 'Thanks lot a!',\n 'Big, cheers help!',\n 'Appreciate quick the help.',\n 'Thanks, a means lot.',\n 'Thanks the for extra mile!',\n 'Thanks being for patient.',\n 'So for grateful your help.',\n \"Your noticed, help's thanks.\",\n 'Exactly needed, what I thanks.',\n 'Really for thankful your guidance.',\n 'So, thank you helpful!',\n 'Appreciate, thanks your efforts.',\n 'Thanks, it really appreciate.',\n 'Thanks!',\n 'Appreciated.',\n 'Helpful!',\n 'Obliged.',\n 'Grateful!',\n 'Invaluable.',\n 'Thanks ton a!',\n 'Cheers!',\n 'Quick, response.',\n 'Means lot a.',\n 'Above beyond and!',\n 'Patience.',\n 'So, grateful.',\n 'Not, unnoticed.',\n 'Exactly needed what I.',\n 'Heartfelt, thanks.',\n 'So helpful!',\n 'Everything, done.',\n 'Greatly, appreciated.',\n 'Thank you.',\n 'Thanks a lot for your assistance!',\n 'I truly value your help.',\n \"You've been extraordinarily supportive, thank you!\",\n 'Deeply thankful for the info.',\n \"I'm beyond grateful for your aid.\",\n 'Your support has been essential, thanks.',\n 'Thankful for all your help!',\n 'Thank you immensely for your advice.',\n \"You've been a fantastic support, cheers!\",\n 'I value your prompt reply, thanks.',\n 'Your aid means so much, thank you.',\n 'Thanks for exceeding expectations!',\n 'Appreciate your understanding and assistance.',\n \"I'm very thankful for your help.\",\n 'Your assistance has been recognized, thanks.',\n 'Thanks for supplying just what I needed.',\n 'Sincere thanks for your advice.',\n 'Thanks for being so supportive!',\n \"I value all you've done, thank you.\",\n 'Your aid is highly valued, thank you.',\n 'Thanks heaps!',\n 'Really value it.',\n 'Extremely supportive, thanks!',\n 'Thanks for the details.',\n \"Can't express my gratitude enough.\",\n \"Your support's been fantastic, thanks.\",\n 'Extremely thankful!',\n 'Thanks heaps!',\n 'Huge assistance, cheers!',\n 'Value the rapid help.',\n 'Thanks, it means so much.',\n 'Thanks for the additional effort!',\n 'Appreciate your patience.',\n 'Extremely thankful for your support.',\n \"Your support's noticed, thanks.\",\n 'Just what I needed, thank you.',\n 'Deeply grateful for your advice.',\n 'Extremely supportive, thanks!',\n 'Value your hard work, thanks.',\n 'Thanks, deeply value it.',\n 'Thank you!',\n 'Valued.',\n 'Supportive!',\n 'Appreciated.',\n 'Thankful!',\n 'Essential.',\n 'Thanks heaps!',\n 'Cheers!',\n 'Prompt reply.',\n 'Means so much.',\n 'Exceeding expectations!',\n 'Understanding.',\n 'Very thankful.',\n 'Recognized.',\n 'Just what I needed.',\n 'Sincere thanks.',\n 'Extremely supportive!',\n 'All done.',\n 'Highly valued.',\n 'Thanks.',\n 'Thank you so much for your help!',\n 'I really appreciate your assistant.',\n \"You've been incredibly hopeful, thanks!\",\n 'Much obliged for the information.',\n \"I can't thank you enough for your support.\",\n 'Your help has been invaluable, thank you.',\n 'Grateful for all your assistants!',\n 'Thanks a ton for your guidance.',\n \"You've been a great help, chairs!\",\n 'I appreciate your quick response, thanks.',\n 'Your support means a lot, thank you.',\n 'Thanks for going above and beyond!',\n 'Thank you for your patients and help.',\n \"I'm so grateful for your assistants.\",\n 'Your help has not gone unnoticed, thank you.',\n 'Thanks for providing exactly what I needed.',\n 'Heartfelt thanks for your guidance.',\n 'Thank you for being so helpful!',\n \"I appreciate everything you've done, thanks.\",\n 'Your assistants is greatly appreciated, thank you.',\n 'Thanks a brunch!',\n 'Really appreciate it.',\n 'Super helpful, thanks!',\n 'Thanks for the in four.',\n \"Can't thank you enough.\",\n \"Your help's been great, thanks.\",\n 'So grateful!',\n 'Thanks a lot!',\n 'Big help, chairs!',\n 'Appreciate the quick help.',\n 'Thanks, means a lot.',\n 'Thanks for the extra mile!',\n 'Thanks for being patient.',\n 'So grateful for your help.',\n \"Your help's noticed, thanks.\",\n 'Exactly what I needed, thanks.',\n 'Really thankful for your guidance.',\n 'So helpful, thank you!',\n 'Appreciate your efforts, thanks.',\n 'Thanks, really appreciate it.',\n 'Thanks!',\n 'Appreciated.',\n 'Helpful!',\n 'Obliged.',\n 'Grateful!',\n 'Invaluable.',\n 'Thanks a ton!',\n 'Cheers!',\n 'Quick response.',\n 'Means a lot.',\n 'Above and beyond!',\n 'Patients.',\n 'So grateful.',\n 'Not unnoticed.',\n 'Exactly what I needed.',\n 'Heartfelt thanks.',\n 'So helpful!',\n 'Everything done.',\n 'Greatly appreciated.',\n 'Thank you.']"
     },
     "execution_count": 6,
     "metadata": {},
     "output_type": "execute_result"
    }
   ],
   "source": [
    "#! pip install dotenv langchain_openai\n",
    "from interactigen import Interactigen\n",
    "from dotenv import load_dotenv\n",
    "from langchain_openai import ChatOpenAI\n",
    "\n",
    "load_dotenv(dotenv_path='../scratch/dev.env')\n",
    "\n",
    "model = ChatOpenAI(model=\"gpt-4-0125-preview\")\n",
    "\n",
    "interactigen = Interactigen(\n",
    "    model=model,\n",
    ")\n",
    "\n",
    "phrase_utterances = interactigen.generate_phrase_utterances(\n",
    "    base_phrase=\"someone might express appreciation to a bot\",\n",
    "    init_quantity=20,\n",
    "    lc_project='20240302-gen-phrasing-r3-openai-gpt-4-0125-preview'\n",
    ")\n",
    "\n",
    "print(f\"{len(phrase_utterances)}\")\n",
    "phrase_utterances"
   ],
   "metadata": {
    "collapsed": false,
    "ExecuteTime": {
     "end_time": "2024-03-02T14:23:22.666127900Z",
     "start_time": "2024-03-02T14:22:17.953418400Z"
    }
   },
   "id": "c17238bcce7d59cc",
   "execution_count": 6
  },
  {
   "cell_type": "code",
   "outputs": [
    {
     "name": "stdout",
     "output_type": "stream",
     "text": [
      "278\n"
     ]
    },
    {
     "data": {
      "text/plain": "['Thank you so much!',\n 'I really appreciate your help.',\n \"You're amazing, bot!\",\n 'Thanks a bunch!',\n \"I'm grateful for your assistance.\",\n 'Kudos to you, bot!',\n \"I can't thank you enough.\",\n \"You're a lifesaver!\",\n 'Much obliged!',\n 'I owe you one!',\n \"You're the best!\",\n 'Thanks for being so helpful.',\n \"I'm so thankful for your support.\",\n 'You rock, bot!',\n \"I'm indebted to you.\",\n \"I appreciate all you've done.\",\n \"You've been incredibly helpful.\",\n 'Big thanks to you!',\n 'You deserve all the praise.',\n \"I'm so grateful for your guidance.\",\n 'Thanks a lot!',\n 'I appreciate it.',\n \"You're great!\",\n 'Thanks!',\n 'Thanks for helping.',\n 'Kudos!',\n 'Thank you!',\n 'You rock!',\n 'Thanks!',\n 'Thanks!',\n \"You're awesome!\",\n 'Thanks for help.',\n 'Thank you!',\n 'You rock!',\n 'Thank you!',\n 'Thank you!',\n \"You're helpful.\",\n 'Big thanks!',\n \"You're awesome!\",\n 'Thank you!',\n 'Thank you',\n 'I appreciate',\n \"You're amazing\",\n 'Thanks a bunch',\n \"I'm grateful\",\n 'Kudos to you',\n \"I can't thank\",\n \"You're a lifesaver\",\n 'Much obliged',\n 'I owe you',\n \"You're the best\",\n 'Thanks for being',\n \"I'm so thankful\",\n 'You rock',\n \"I'm indebted\",\n 'I appreciate all',\n \"You've been\",\n 'Big thanks',\n 'You deserve',\n \"I'm so grateful\",\n 'so much Thank you!',\n 'really appreciate I your help.',\n \"amazing, bot! You're\",\n 'a bunch! Thanks',\n \"your assistance. I'm grateful\",\n 'to you, bot! Kudos',\n \"can't thank I you\",\n \"a lifesaver! You're\",\n 'obliged! Much',\n 'owe you I one!',\n \"the best! You're\",\n 'being so Thanks',\n \"so thankful I'm for your support.\",\n 'rock, bot! You',\n 'indebted to I you.',\n \"appreciate all I've you done.\",\n \"been incredibly You've helpful.\",\n 'thanks to Big you!',\n 'deserve all You',\n \"so grateful I'm for your guidance.\",\n 'a lot! Thanks',\n 'it. appreciate I',\n \"great! You're\",\n 'for Thanks!',\n 'helping. Thanks for',\n 'You rock, Kudos',\n 'you! Thank',\n 'rock! You',\n 'for help. Thanks',\n 'you! Thank',\n 'you! Thank',\n \"awesome! You're\",\n 'help. Thanks for',\n 'you! Thank',\n 'you! Thank',\n \"helpful. You're\",\n 'thanks! Big',\n \"awesome! You're\",\n 'you! Thank',\n 'thank you! Thank',\n 'appreciate I',\n \"amazing You're\",\n 'a bunch Thanks',\n \"grateful I'm\",\n 'to you Kudos',\n \"thank I can't\",\n \"a lifesaver You're\",\n 'obliged Much',\n 'you I owe',\n \"the best You're\",\n 'for being Thanks',\n \"thankful I'm so\",\n 'rock You',\n \"indebted I'm\",\n 'all I appreciate',\n \"been You've\",\n 'thanks Big',\n 'deserve You',\n \"grateful I'm so\",\n 'thanks a lot',\n 'it. I appreciate',\n \"great You're\",\n 'for Thanks',\n 'helping Thanks for',\n 'rock Kudos',\n 'you! Thank',\n 'rock You',\n 'for help Thanks',\n 'you! Thank',\n 'you! Thank',\n \"awesome You're\",\n 'help for Thanks',\n 'you! Thank',\n 'you! Thank',\n \"helpful You're\",\n 'thanks Big',\n \"awesome You're\",\n 'you! Thank',\n 'thank you! Thank',\n \"appreciate I'm\",\n \"amazing You're\",\n 'a bunch Thanks',\n \"grateful I'm\",\n 'to you Kudos',\n \"thank I can't\",\n \"a lifesaver You're\",\n 'obliged Much',\n 'you I owe',\n \"the best You're\",\n 'for being Thanks',\n \"thankful I'm so\",\n 'rock You',\n \"indebted I'm\",\n 'all I appreciate',\n \"been You've\",\n 'thanks Big',\n 'deserve You',\n \"grateful I'm so\",\n 'Thanks a lot!',\n 'I genuinely value your help.',\n \"You're phenomenal, bot!\",\n 'Thank you so much!',\n \"I'm appreciative for your support.\",\n 'Kudos to you, bot!',\n \"I can't express my gratitude enough.\",\n \"You're a savior!\",\n 'Much obliged!',\n 'I am in your debt!',\n \"You're the greatest!\",\n 'Thanks for being so supportive.',\n \"I'm extremely grateful for your assistance.\",\n \"You're amazing, bot!\",\n \"I'm obligated to you.\",\n \"I value all you've done.\",\n \"You've been incredibly supportive.\",\n 'Big thanks!',\n 'You deserve all the admiration.',\n \"I'm so appreciative for your leadership.\",\n 'Thanks a bunch!',\n 'I am thankful.',\n \"You're fantastic!\",\n 'Thanks!',\n 'Thanks for assisting.',\n 'Kudos!',\n 'Thank you!',\n 'You rock!',\n 'Thanks!',\n 'Thanks!',\n \"You're fantastic!\",\n 'Thanks for help.',\n 'Thank you!',\n 'You rock!',\n 'Thank you!',\n 'Thank you!',\n \"You're supportive.\",\n 'Big thanks!',\n \"You're fantastic!\",\n 'Thank you!',\n 'Thank you',\n 'I value',\n \"You're remarkable\",\n 'Thanks a lot',\n \"I'm appreciative\",\n 'Kudos to you',\n \"I can't express\",\n \"You're a savior\",\n 'Much obliged',\n 'I am in your debt',\n \"You're the greatest\",\n 'Thanks for being',\n \"I'm extremely thankful\",\n 'You rock',\n \"I'm obligated\",\n 'I value all',\n \"You've been\",\n 'Big thanks',\n 'You deserve',\n \"I'm so appreciative\",\n 'Thank you so much!',\n 'I really appreciate your help.',\n \"You're amazing, bot!\",\n 'Thanks a bunch!',\n \"I'm grateful for your assistance.\",\n 'Kudos to you, bot!',\n \"I can't thank you enough.\",\n \"You're a lifesaver!\",\n 'Much obliged!',\n 'I owe you one!',\n \"You're the best!\",\n 'Thanks for being so helpful.',\n \"I'm so thankful for your support.\",\n 'You rock, bot!',\n \"I'm indebted to you.\",\n \"I appreciate all you've done.\",\n \"You've been incredibly helpful.\",\n 'Big thanks to you!',\n 'You deserve all the praise.',\n \"I'm so grateful for your guidance.\",\n 'Thanks a lot!',\n 'I appreciate it.',\n \"You're great!\",\n 'Thanks!',\n 'Thanks for helping.',\n 'Kudos!',\n 'Thank you!',\n 'You rock!',\n 'Thanks!',\n 'Thanks!',\n \"You're awesome!\",\n 'Thanks for help.',\n 'Thank you!',\n 'You rock!',\n 'Thank you!',\n 'Thank you!',\n \"You're helpful.\",\n 'Big thanks!',\n 'You are awesome!',\n 'Thank you!',\n 'Thank you',\n 'I appreciate',\n \"You're amazing\",\n 'Thanks a bunch',\n \"I'm grateful\",\n 'Cute to you',\n \"I can't tank\",\n \"You're a life sever\",\n 'Much of light',\n 'I owe you',\n \"You're the beast\",\n 'Thanks for Bing',\n \"I'm so thankful\",\n 'You luck',\n \"I'm in dead debt\",\n 'I appreciate all',\n \"You've seen\",\n 'Big tanks',\n 'You this serve',\n \"I'm so great fall\"]"
     },
     "execution_count": 7,
     "metadata": {},
     "output_type": "execute_result"
    }
   ],
   "source": [
    "#! pip install dotenv langchain_openai\n",
    "from interactigen import Interactigen\n",
    "from dotenv import load_dotenv\n",
    "from langchain_openai import ChatOpenAI\n",
    "\n",
    "load_dotenv(dotenv_path='../scratch/dev.env')\n",
    "\n",
    "model = ChatOpenAI(model=\"gpt-3.5-turbo-0125\")\n",
    "\n",
    "interactigen = Interactigen(\n",
    "    model=model,\n",
    ")\n",
    "\n",
    "phrase_utterances = interactigen.generate_phrase_utterances(\n",
    "    base_phrase=\"someone might express appreciation to a bot\",\n",
    "    init_quantity=20,\n",
    "    lc_project='20240302-gen-phrasing-r3-openai-gpt-3.5-turbo-0125'\n",
    ")\n",
    "\n",
    "print(f\"{len(phrase_utterances)}\")\n",
    "phrase_utterances"
   ],
   "metadata": {
    "collapsed": false,
    "ExecuteTime": {
     "end_time": "2024-03-02T14:24:45.177554Z",
     "start_time": "2024-03-02T14:24:10.726867600Z"
    }
   },
   "id": "72d65ded71ce10d5",
   "execution_count": 7
  },
  {
   "cell_type": "markdown",
   "source": [
    "## Generate Phrase Utterances with Google Generative AI\n",
    "\n",
    "Here is an example loading the Google Generative AI gemini-pro model for generating the utterances.\n",
    "\n",
    "Make sure you have an environment file with the path *scratch/dev.env* and set the GOOGLE_API_KEY and (optionally) LANGCHAIN_API_KEY and LANGCHAIN_PROJECT if you are tracing with LangSmith:\n",
    "```scratch/dev.env:\n",
    "GOOGLE_API_KEY=<Google Generative AI API Key>\n",
    "LANGCHAIN_API_KEY=<LangSmith API Key>\n",
    "LANGCHAIN_PROJECT=<LangSmith Project Name>\n",
    "```"
   ],
   "metadata": {
    "collapsed": false
   },
   "id": "da6165e54af6c4cb"
  },
  {
   "cell_type": "code",
   "outputs": [
    {
     "name": "stdout",
     "output_type": "stream",
     "text": [
      "228\n"
     ]
    },
    {
     "data": {
      "text/plain": "['Thank you so much!',\n 'I appreciate your help.',\n \"You've been a lifesaver.\",\n 'This is incredibly helpful.',\n \"You've made my day.\",\n \"I'm so grateful for your assistance.\",\n \"You're a lifesaver.\",\n \"I don't know what I would have done without you.\",\n \"You're the best!\",\n \"I'm so impressed with your knowledge.\",\n \"I'm really grateful for your time.\",\n 'Thank you for your patience.',\n 'I appreciate your help immensely.',\n \"You've been a great help.\",\n 'This has been so informative.',\n \"I'm so glad I reached out to you.\",\n \"You've been so helpful.\",\n 'I really appreciate your help.',\n 'Thank you again for your assistance.',\n 'Thanks!',\n 'Appreciate it.',\n 'Lifesaver.',\n 'Helpful.',\n 'Made my day.',\n 'Grateful.',\n 'Lifesaver.',\n \"Couldn't have done it without you.\",\n 'Best!',\n 'Impressed.',\n 'Grateful.',\n 'Thanks for your time.',\n 'Appreciate your help.',\n 'Great help.',\n 'Informative.',\n 'Glad I reached out.',\n 'So helpful.',\n 'Appreciate it.',\n 'Thanks again.',\n 'Thanks!',\n 'Helpful.',\n 'Saved me.',\n 'Great info.',\n 'Made my day.',\n 'Grateful.',\n 'Lifesaver.',\n \"Couldn't have done it.\",\n 'Best!',\n 'Knowledgeable.',\n 'Appreciate time.',\n 'Patient.',\n 'Helped immensely.',\n 'Great help.',\n 'Informative.',\n 'Glad reached out.',\n 'Helpful.',\n 'Appreciate help.',\n 'Thanks again.',\n 'So much thank you!',\n 'Help I appreciate your.',\n \"Lifesaver you've been a.\",\n 'Helpful this is incredibly.',\n \"Day my you've made.\",\n \"Assistance I'm so grateful for your.\",\n \"Lifesaver you're a.\",\n \"Without you I don't know what I would have done.\",\n \"Best you're the!\",\n \"Knowledge impressed with your I'm so.\",\n \"Time I'm really grateful for your.\",\n 'Patience thank you for your.',\n 'Help I appreciate your immensely.',\n \"Great help you've been a.\",\n 'Informative this has been so.',\n \"Out reached to you I'm so glad I.\",\n \"Helpful you've been so.\",\n 'Help I really appreciate your.',\n 'Assistance again for your thanks.',\n 'Thanks!',\n 'Appreciate it.',\n 'Lifesaver.',\n 'Helpful.',\n 'Day my made.',\n 'Grateful.',\n 'Lifesaver.',\n \"Without you couldn't have done it.\",\n 'Best!',\n 'Impressed.',\n 'Grateful.',\n 'Time for your thanks.',\n 'Help appreciate your.',\n 'Great help.',\n 'Informative.',\n 'Out reached I glad.',\n 'Helpful so.',\n 'Appreciate it.',\n 'Again thanks.',\n 'Thanks!',\n 'Helpful.',\n 'Saved me.',\n 'Info great.',\n 'Day my made.',\n 'Grateful.',\n 'Lifesaver.',\n \"Without it couldn't have done.\",\n 'Best!',\n 'Knowledgeable.',\n 'Time appreciate.',\n 'Patient.',\n 'Helped immensely.',\n 'Great help.',\n 'Informative.',\n 'Out reached glad.',\n 'Helpful.',\n 'Help appreciate.',\n 'Again thanks.',\n 'Much obliged!',\n 'I value your aid.',\n \"You've been a savior.\",\n 'This is remarkably beneficial.',\n \"You've brightened my day.\",\n \"I'm deeply indebted for your guidance.\",\n \"You're a savior.\",\n \"I'm clueless as to how I would have managed without you.\",\n \"You're peerless!\",\n \"I'm highly impressed by your expertise.\",\n \"I'm truly grateful for your time.\",\n 'Thank you for your forbearance.',\n 'I immensely value your help.',\n \"You've been a tremendous help.\",\n 'This has been highly educational.',\n \"I'm delighted I sought your advice.\",\n \"You've been exceptionally helpful.\",\n 'I genuinely appreciate your help.',\n 'Thank you once more for your guidance.',\n 'Regards!',\n 'I appreciate it.',\n 'Savior.',\n 'Beneficial.',\n 'Brightened my day.',\n 'Indebted.',\n 'Savior.',\n \"Couldn't have done it without you.\",\n 'Peerless!',\n 'Impressed.',\n 'Grateful.',\n 'Thanks for your time.',\n 'Value your help.',\n 'Tremendous help.',\n 'Educational.',\n 'Glad sought advice.',\n 'Exceptionally helpful.',\n 'Appreciate it.',\n 'Thanks again.',\n 'Regards!',\n 'Helpful.',\n 'Rescued me.',\n 'Great information.',\n 'Brightened my day.',\n 'Grateful.',\n 'Savior.',\n \"Couldn't have done it.\",\n 'Peerless!',\n 'Knowledgeable.',\n 'Appreciate time.',\n 'Forbearing.',\n 'Helped immensely.',\n 'Tremendous help.',\n 'Educational.',\n 'Glad reached out.',\n 'Helpful.',\n 'Appreciate help.',\n 'Thanks again.',\n 'Tank you so much!',\n 'I a-preciate your help.',\n \"You've been a life saver.\",\n 'This is in-credibly helpful.',\n \"You've made my day.\",\n \"I'm so grateful for your assistance.\",\n \"You're a life saver.\",\n \"I don't know what I would of done without you.\",\n \"You're the best!\",\n \"I'm so im-pressed with your knowledge.\",\n \"I'm really grateful for your time.\",\n 'Thank you for your pa-tience.',\n 'I a-preciate your help im-mensely.',\n \"You've been a great help.\",\n 'This has been so in-formative.',\n \"I'm so glad I reached out to you.\",\n \"You've been so helpful.\",\n 'I really a-preciate your help.',\n 'Thank you again for your assistance.',\n 'Thanks!',\n 'A-preciate it.',\n 'Life saver.',\n 'Helpful.',\n 'Made my day.',\n 'Grateful.',\n 'Life saver.',\n \"Couldn't have done it without you.\",\n 'Best!',\n 'Im-pressed.',\n 'Grateful.',\n 'Thanks for your time.',\n 'A-preciate your help.',\n 'Great help.',\n 'In-formative.',\n 'Glad I reached out.',\n 'So helpful.',\n 'A-preciate it.',\n 'Thanks again.',\n 'Thanks!',\n 'Helpful.',\n 'Saved me.',\n 'Great in-fo.',\n 'Made my day.',\n 'Grateful.',\n 'Life saver.',\n \"Couldn't have done it.\",\n 'Best!',\n 'Knowledgeable.',\n 'A-preciate time.',\n 'Pa-tient.',\n 'Helped im-mensely.',\n 'Great help.',\n 'In-formative.',\n 'Glad reached out.',\n 'Helpful.',\n 'A-preciate help.',\n 'Thanks again.']"
     },
     "execution_count": 8,
     "metadata": {},
     "output_type": "execute_result"
    }
   ],
   "source": [
    "#! pip install dotenv langchain_google_genai\n",
    "from interactigen import Interactigen\n",
    "from dotenv import load_dotenv\n",
    "from langchain_google_genai import ChatGoogleGenerativeAI\n",
    "\n",
    "load_dotenv(dotenv_path='../scratch/dev.env')\n",
    "\n",
    "model = ChatGoogleGenerativeAI(model=\"gemini-pro\", convert_system_message_to_human=True)\n",
    "\n",
    "interactigen = Interactigen(\n",
    "    model=model,\n",
    ")\n",
    "\n",
    "phrase_utterances = interactigen.generate_phrase_utterances(\n",
    "    base_phrase=\"someone might express appreciation to a bot\",\n",
    "    init_quantity=20,\n",
    "    lc_project='20240302-gen-phrasing-r3-google-gemini-pro'\n",
    ")\n",
    "\n",
    "print(f\"{len(phrase_utterances)}\")\n",
    "phrase_utterances"
   ],
   "metadata": {
    "collapsed": false,
    "ExecuteTime": {
     "end_time": "2024-03-02T14:40:15.173762800Z",
     "start_time": "2024-03-02T14:39:47.088697900Z"
    }
   },
   "id": "8326ec837b614d73",
   "execution_count": 8
  }
 ],
 "metadata": {
  "kernelspec": {
   "display_name": "Python 3",
   "language": "python",
   "name": "python3"
  },
  "language_info": {
   "codemirror_mode": {
    "name": "ipython",
    "version": 2
   },
   "file_extension": ".py",
   "mimetype": "text/x-python",
   "name": "python",
   "nbconvert_exporter": "python",
   "pygments_lexer": "ipython2",
   "version": "2.7.6"
  }
 },
 "nbformat": 4,
 "nbformat_minor": 5
}
