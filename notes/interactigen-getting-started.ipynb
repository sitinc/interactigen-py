{
 "cells": [
  {
   "cell_type": "markdown",
   "source": [
    "MIT License\n",
    "\n",
    "Copyright (c) 2024 Justin Randall, Smart Interactive Transformations Inc.\n",
    "\n",
    "Permission is hereby granted, free of charge, to any person obtaining a copy\n",
    "of this software and associated documentation files (the \"Software\"), to deal\n",
    "in the Software without restriction, including without limitation the rights\n",
    "to use, copy, modify, merge, publish, distribute, sublicense, and/or sell\n",
    "copies of the Software, and to permit persons to whom the Software is\n",
    "furnished to do so, subject to the following conditions:\n",
    "\n",
    "The above copyright notice and this permission notice shall be included in all\n",
    "copies or substantial portions of the Software.\n",
    "\n",
    "THE SOFTWARE IS PROVIDED \"AS IS\", WITHOUT WARRANTY OF ANY KIND, EXPRESS OR\n",
    "IMPLIED, INCLUDING BUT NOT LIMITED TO THE WARRANTIES OF MERCHANTABILITY,\n",
    "FITNESS FOR A PARTICULAR PURPOSE AND NONINFRINGEMENT. IN NO EVENT SHALL THE\n",
    "AUTHORS OR COPYRIGHT HOLDERS BE LIABLE FOR ANY CLAIM, DAMAGES OR OTHER\n",
    "LIABILITY, WHETHER IN AN ACTION OF CONTRACT, TORT OR OTHERWISE, ARISING FROM,\n",
    "OUT OF OR IN CONNECTION WITH THE SOFTWARE OR THE USE OR OTHER DEALINGS IN THE\n",
    "SOFTWARE."
   ],
   "metadata": {
    "collapsed": false
   },
   "id": "e9a6b35905cf2bad"
  },
  {
   "cell_type": "markdown",
   "source": [
    "# Overview\n",
    "\n",
    "The purpose of this notebook is to serve as basic documentation for using the Interactigen library to generate base and augmented utterance phrases to use with natural language understanding (NLU) intent classification, or with Large Language Model (LLM) fine-tuning.\n",
    "\n",
    "The Interactigen module is built on LangChain.  The decision to use LangChain enables experimenting with various models with minimal code adjustments.  Already have code to load and configure your favourite LangChain ChatModel?  Great!  Let's use that.\n",
    "\n",
    "The output results for each run is a JSON array for downstream use: write to a file, split test/train utterances, and more."
   ],
   "metadata": {
    "collapsed": false
   },
   "id": "5fa6a1d230229fd6"
  },
  {
   "cell_type": "markdown",
   "source": [
    "## Generate Phrase Utterances with OpenAI\n",
    "\n",
    "Here is are two examples loading the OpenAI gpt-4-0125-preview and gpt-3.5-turbo-0125 models for generating the utterances.\n",
    "\n",
    "Make sure you have an environment file with the path *scratch/dev.env* and set the OPENAI_API_KEY and (optionally) LANGCHAIN_API_KEY and LANGCHAIN_PROJECT if you are tracing with LangSmith:\n",
    "```scratch/dev.env:\n",
    "OPENAI_API_KEY=<OpenAI API Key>\n",
    "LANGCHAIN_API_KEY=<LangSmith API Key>\n",
    "LANGCHAIN_PROJECT=<LangSmith Project Name>\n",
    "```"
   ],
   "metadata": {
    "collapsed": false
   },
   "id": "8ccbed34efeeace7"
  },
  {
   "cell_type": "code",
   "outputs": [
    {
     "data": {
      "text/plain": "['Thanks for your help!',\n 'I appreciate your assistance.',\n \"You've been really helpful, thank you.\",\n 'Much appreciated!',\n 'Thank you, that was exactly what I needed.',\n 'Cheers for the help!',\n \"I'm so grateful for your assistance.\",\n 'Your support means a lot, thanks.',\n \"Thank you, you've been great.\",\n 'Thanks a ton!',\n \"You're a lifesaver, thank you.\",\n \"I can't thank you enough for this.\",\n 'Your help has been invaluable, thank you.',\n 'Big thanks for your quick response!',\n 'I owe you one, thanks!',\n 'Your guidance was perfect, thanks!',\n 'Thank you for being so helpful!',\n 'You did a fantastic job, thank you.',\n 'Thanks for going above and beyond!',\n 'Your efforts are greatly appreciated!',\n 'Thanks!',\n 'Appreciate it.',\n 'Really helpful, thanks.',\n 'Much thanks!',\n 'Exactly what I needed, thanks.',\n 'Cheers!',\n 'So grateful, thanks.',\n 'Thanks a lot!',\n \"You've been great, thanks.\",\n 'Thanks a ton!',\n 'Lifesaver, thanks.',\n \"Can't thank you enough.\",\n 'Invaluable help, thanks.',\n 'Big thanks!',\n 'Owe you one!',\n 'Perfect guidance, thanks!',\n 'So helpful, thanks!',\n 'Fantastic job, thanks.',\n 'Above and beyond, thanks!',\n 'Greatly appreciated!',\n 'Thanks!',\n 'Appreciated.',\n 'Really helpful!',\n 'Much appreciated!',\n 'Thank you.',\n 'Cheers!',\n 'So grateful.',\n 'Thanks a lot.',\n \"You're great.\",\n 'Thanks a ton!',\n 'Lifesaver!',\n \"Can't thank you enough.\",\n 'Invaluable.',\n 'Big thanks!',\n 'Owe you one.',\n 'Perfect guidance.',\n 'So helpful!',\n 'Fantastic job!',\n 'Above and beyond!',\n 'Greatly appreciated!',\n 'Thanks for help your!',\n 'Appreciate I your assistance.',\n \"Really helpful you've been, thank you.\",\n 'Appreciated Much!',\n 'Thank that you, was exactly what I needed.',\n 'Cheers the for help!',\n \"So grateful I'm for your assistance.\",\n 'Means your support a lot, thanks.',\n \"Thank been you, you've great.\",\n 'A thanks ton!',\n \"A lifesaver you're, thank you.\",\n \"I can't you thank enough for this.\",\n 'Has your help been invaluable, thank you.',\n 'Thanks big for your quick response!',\n 'I you owe one, thanks!',\n 'Was your guidance perfect, thanks!',\n 'Thank for being you so helpful!',\n 'Did you a fantastic job, thank you.',\n 'Thanks for going beyond and above!',\n 'Are your efforts greatly appreciated!',\n 'Thanks!',\n 'It appreciate.',\n 'Helpful really, thanks.',\n 'Thanks much!',\n 'What exactly I needed, thanks.',\n 'Cheers!',\n 'Grateful so, thanks.',\n 'A lot thanks!',\n \"Been you've great, thanks.\",\n 'A ton thanks!',\n 'Thanks, lifesaver.',\n \"Thank enough can't you.\",\n 'Help invaluable, thanks.',\n 'Thanks big!',\n 'You one owe!',\n 'Guidance perfect, thanks!',\n 'Helpful so, thanks!',\n 'Job fantastic, thanks.',\n 'Beyond and above, thanks!',\n 'Appreciated greatly!',\n 'Thanks!',\n 'Appreciated.',\n 'Helpful really!',\n 'Appreciated much!',\n 'You thank.',\n 'Cheers!',\n 'Grateful so.',\n 'A lot thanks.',\n \"Great you're.\",\n 'A ton thanks!',\n 'Lifesaver!',\n \"Enough can't thank you.\",\n 'Invaluable.',\n 'Thanks big!',\n 'One owe you.',\n 'Guidance perfect.',\n 'Helpful so!',\n 'Job fantastic!',\n 'And beyond above!',\n 'Appreciated greatly!',\n 'Grateful for your support!',\n 'I value your help.',\n \"You've been incredibly supportive, many thanks.\",\n 'Greatly appreciated!',\n 'Thanks, that was precisely what I required.',\n 'Kudos for the assistance!',\n \"I'm extremely thankful for your help.\",\n 'Your aid is highly valued, thank you.',\n \"Thanks, you've been wonderful.\",\n 'Thank you so much!',\n \"You're a hero, many thanks.\",\n 'I cannot express my gratitude enough for this.',\n 'Your assistance has been crucial, thank you.',\n 'Huge thanks for your prompt reply!',\n \"I'm indebted to you, thanks!\",\n 'Your advice was spot on, thanks!',\n 'Thank you for being so supportive!',\n 'You did an outstanding job, thank you.',\n 'Thanks for exceeding expectations!',\n 'Your hard work is highly valued!',\n 'Thank you!',\n 'Valued.',\n 'Very supportive, thank you.',\n 'Great thanks!',\n 'Precisely what I required, thank you.',\n 'Kudos!',\n 'Extremely thankful, thanks.',\n 'Thank you very much!',\n \"You've been wonderful, thank you.\",\n 'Thank you so much!',\n 'Hero, thank you.',\n 'Cannot express my gratitude enough.',\n 'Crucial assistance, thank you.',\n 'Huge thanks!',\n 'Indebted to you!',\n 'Spot on advice, thank you!',\n 'Incredibly supportive, thanks!',\n 'Outstanding job, thank you.',\n 'Exceeding expectations, thank you!',\n 'Highly valued!',\n 'Thank you!',\n 'Valued.',\n 'Very supportive!',\n 'Greatly appreciated!',\n 'Many thanks.',\n 'Kudos!',\n 'Extremely thankful.',\n 'Thank you very much.',\n \"You're wonderful.\",\n 'Thank you so much!',\n 'Hero!',\n 'Cannot express my gratitude enough.',\n 'Crucial.',\n 'Huge thanks!',\n 'Indebted to you.',\n 'Spot on advice.',\n 'Incredibly supportive!',\n 'Outstanding job!',\n 'Exceeding expectations!',\n 'Highly valued!',\n 'Thanks for your help!',\n 'I appreciate your assistant.',\n \"You've been really helpful, tank you.\",\n 'Much appreciated!',\n 'Thank you, that was exactly what I kneaded.',\n 'Cheers for the help!',\n \"I'm so grateful for your assistants.\",\n 'Your support means a lot, tanks.',\n \"Thank you, you've been grate.\",\n 'Thanks a ton!',\n \"You're a life saver, thank you.\",\n \"I can't tank you enough for this.\",\n 'Your help has been invaluable, tank you.',\n 'Big thanks for your quick response!',\n 'I owe you one, tanks!',\n 'Your guidance was perfect, tanks!',\n 'Thank you for being so helpful!',\n 'You did a fantastic job, tank you.',\n 'Thanks for going above and beyond!',\n 'Your efforts are greatly appreciated!',\n 'Tanks!',\n 'Appreciate it.',\n 'Really helpful, tanks.',\n 'Much tanks!',\n 'Exactly what I needed, tanks.',\n 'Cheers!',\n 'So grateful, tanks.',\n 'Thanks a lot!',\n \"You've been great, tanks.\",\n 'Thanks a ton!',\n 'Life saver, tanks.',\n \"Can't tank you enough.\",\n 'Invaluable help, tanks.',\n 'Big tanks!',\n 'Owe you one!',\n 'Perfect guidance, tanks!',\n 'So helpful, tanks!',\n 'Fantastic job, tanks.',\n 'Above and beyond, tanks!',\n 'Greatly appreciated!',\n 'Tanks!',\n 'Appreciated.',\n 'Really helpful!',\n 'Much appreciated!',\n 'Thank you.',\n 'Cheers!',\n 'So grateful.',\n 'Thanks a lot.',\n \"You're great.\",\n 'Thanks a ton!',\n 'Life saver!',\n \"Can't tank you enough.\",\n 'Invaluable.',\n 'Big tanks!',\n 'Owe you one.',\n 'Perfect guidance.',\n 'So helpful!',\n 'Fantastic job!',\n 'Above and beyond!',\n 'Greatly appreciated!']"
     },
     "execution_count": 5,
     "metadata": {},
     "output_type": "execute_result"
    }
   ],
   "source": [
    "#! pip install dotenv langchain_openai\n",
    "from interactigen import Interactigen\n",
    "from dotenv import load_dotenv\n",
    "from langchain_openai import ChatOpenAI\n",
    "\n",
    "load_dotenv(dotenv_path='../scratch/dev.env')\n",
    "\n",
    "model = ChatOpenAI(model=\"gpt-4-0125-preview\")\n",
    "\n",
    "interactigen = Interactigen(\n",
    "    model=model,\n",
    ")\n",
    "\n",
    "phrase_utterances = interactigen.generate_phrase_utterances(\n",
    "    base_phrase=\"someone might express appreciation to a bot\",\n",
    "    init_quantity=20,\n",
    "    lc_project='20240229-gen-phrasing-r1-openai-gpt-4-0125-preview'\n",
    ")\n",
    "\n",
    "phrase_utterances"
   ],
   "metadata": {
    "collapsed": false,
    "ExecuteTime": {
     "end_time": "2024-02-29T17:15:26.477098Z",
     "start_time": "2024-02-29T17:13:52.367496Z"
    }
   },
   "id": "c17238bcce7d59cc",
   "execution_count": 5
  },
  {
   "cell_type": "code",
   "outputs": [
    {
     "data": {
      "text/plain": "['Thank you so much!',\n 'I appreciate your help!',\n 'Thanks a lot for assisting me!',\n 'Your support is invaluable!',\n 'Grateful for your guidance!',\n 'Much obliged for your assistance!',\n 'Thanks a bunch!',\n \"I'm thankful for your help!\",\n 'Kudos to you for your support!',\n 'Big thank you for your guidance!',\n 'Thanks for being so helpful!',\n 'Appreciate your prompt assistance!',\n 'Thank you for being so responsive!',\n 'Your help is greatly appreciated!',\n 'Thanks for always being there!',\n \"I'm grateful for your expertise!\",\n 'Thank you for your valuable input!',\n 'Appreciate all your efforts!',\n 'Thanks for going above and beyond!',\n 'Your assistance means a lot to me!',\n 'Thanks a lot!',\n 'Appreciate your help!',\n 'Big thank you!',\n 'Your support rocks!',\n 'Thanks for your guidance!',\n 'Much obliged!',\n 'Thanks!',\n 'Thanks for helping!',\n 'Kudos to you!',\n 'Big thanks!',\n 'Thanks for helping!',\n 'Thanks for assisting!',\n 'Thank you for being responsive!',\n 'Greatly appreciated!',\n 'Thanks for being there!',\n 'Grateful for your expertise!',\n 'Thank you for your input!',\n 'Appreciate your efforts!',\n 'Thanks for going beyond!',\n 'Your help means a lot!',\n 'Thank you',\n 'I appreciate',\n 'Thanks a lot',\n 'Your support is',\n 'Grateful for your',\n 'Much obliged',\n 'Thanks a bunch',\n \"I'm thankful\",\n 'Kudos to you',\n 'Big thank you',\n 'Thanks for being',\n 'Appreciate your',\n 'Thank you for',\n 'Your help is',\n 'Thanks for always',\n \"I'm grateful\",\n 'Thank you for',\n 'Appreciate all',\n 'Thanks for going',\n 'Your assistance',\n 'so much! Thank you',\n 'your help! I appreciate',\n 'a lot for Thanks',\n 'support is invaluable! Your',\n 'for your guidance! Grateful',\n 'obliged for your assistance! Much',\n 'a bunch! Thanks',\n \"thankful for your help! I'm\",\n 'to you for your support! Kudos',\n 'you for your guidance! Big',\n 'for being so Thanks',\n 'your prompt assistance! Appreciate',\n 'being so responsive! Thank you',\n 'help is greatly Your',\n 'always being there! Thanks',\n \"grateful for your expertise! I'm\",\n 'for your valuable input! Thank',\n 'all your efforts! Appreciate',\n 'for going above Thanks',\n 'assistance means a lot Your',\n 'a lot! Thanks',\n 'your help! Appreciate',\n 'thank you! Big',\n 'support rocks! Your',\n 'for your guidance! Thanks',\n 'obliged! Much',\n 'for helping! Thanks',\n '! Thanks',\n 'for helping! Thanks',\n 'for assisting! Thanks',\n 'being responsive! Thank you',\n 'appreciated! Greatly',\n 'for there! Thanks',\n 'for your expertise! Grateful',\n 'input! Thank you for',\n 'efforts! Appreciate your',\n 'going beyond! Thanks',\n 'help means a lot Your',\n 'you Thank',\n 'appreciate I',\n 'a lot Thanks',\n 'support is Your',\n 'for your Grateful',\n 'obliged Much',\n 'a bunch Thanks',\n \"thankful I'm\",\n 'to you Kudos',\n 'you for Big',\n 'being Thanks for',\n 'prompt assistance! Appreciate your',\n 'so responsive! Thank you for',\n 'is greatly Your help',\n 'being there! Thanks for',\n 'for your expertise! Grateful for',\n 'for your input! Thank you',\n 'your efforts! Appreciate all',\n 'for going beyond! Thanks for',\n 'means a lot Your help',\n 'Thank you',\n 'appreciate I',\n 'lot Thanks a',\n 'is Your support',\n 'for your Grateful for',\n 'Much obliged',\n 'a bunch Thanks',\n \"I'm thankful\",\n 'to you Kudos',\n 'you for Big',\n 'being Thanks for',\n 'prompt assistance! Appreciate your',\n 'so responsive! Thank you for',\n 'is greatly Your help',\n 'being there! Thanks for',\n 'for your expertise! Grateful for',\n 'for your input! Thank you',\n 'your efforts! Appreciate all',\n 'for going beyond! Thanks for',\n 'means a lot Your help',\n 'Thank you so much!',\n 'I appreciate your help!',\n 'Thanks a lot for assisting me!',\n 'Your support is invaluable!',\n 'Grateful for your guidance!',\n 'Much obliged for your assistance!',\n 'Thanks a bunch!',\n \"I'm thankful for your help!\",\n 'Kudos to you for your support!',\n 'Big thank you for your guidance!',\n 'Thanks for being so helpful!',\n 'Appreciate your prompt assistance!',\n 'Thank you for being so responsive!',\n 'Your help is greatly appreciated!',\n 'Thanks for always being there!',\n \"I'm grateful for your expertise!\",\n 'Thank you for your valuable input!',\n 'Appreciate all your efforts!',\n 'Thanks for going above and beyond!',\n 'Your assistance means a lot to me!',\n 'Thanks a lot!',\n 'Appreciate your help!',\n 'Big thank you!',\n 'Your support rocks!',\n 'Thanks for your guidance!',\n 'Much obliged!',\n 'Thanks!',\n 'Thanks for helping!',\n 'Kudos to you!',\n 'Big thanks!',\n 'Thanks for helping!',\n 'Thanks for assisting!',\n 'Thank you for being responsive!',\n 'Greatly appreciated!',\n 'Thanks for being there!',\n 'Grateful for your expertise!',\n 'Thank you for your input!',\n 'Appreciate your efforts!',\n 'Thanks for going beyond!',\n 'Your help means a lot!',\n 'Thank you',\n 'I appreciate',\n 'Thanks a lot',\n 'Your support is',\n 'Grateful for your',\n 'Much obliged',\n 'Thanks a bunch',\n \"I'm thankful\",\n 'Kudos to you',\n 'Big thank you',\n 'Thanks for being',\n 'Appreciate your',\n 'Thank you for',\n 'Your help is',\n 'Thanks for always',\n \"I'm grateful\",\n 'Thank you for',\n 'Appreciate all',\n 'Thanks for going',\n 'Your assistance',\n 'Thank you so much!',\n 'I appreciate your help!',\n 'Thanks a lot for assisting me!',\n 'Your support is invaluable!',\n 'Grateful for your guidance!',\n 'Much obliged for your assistance!',\n 'Thanks a bunch!',\n \"I'm thankful for your help!\",\n 'Kudos to you for your support!',\n 'Big thank you for your guidance!',\n 'Thanks for being so helpful!',\n 'Appreciate your prompt assistance!',\n 'Thank you for being so responsive!',\n 'Your help is greatly appreciated!',\n 'Thanks for always being there!',\n \"I'm grateful for your expertise!\",\n 'Thank you for your valuable input!',\n 'Appreciate all your efforts!',\n 'Thanks for going above and beyond!',\n 'Your assistance means a lot to me!',\n 'Thanks a lot!',\n 'Appreciate your help!',\n 'Big thank you!',\n 'Your support rocks!',\n 'Thanks for your guidance!',\n 'Much obliged!',\n 'Thanks!',\n 'Thanks for helping!',\n 'Kudos to you!',\n 'Big thanks!',\n 'Thanks for helping!',\n 'Thanks for assisting!',\n 'Thank you for being responsive!',\n 'Greatly appreciated!',\n 'Thanks for being there!',\n 'Grateful for your expertise!',\n 'Thank you for your input!',\n 'Appreciate your efforts!',\n 'Thanks for going beyond!',\n 'Your help means a lot!',\n 'Thank you',\n 'I appreciate',\n 'Thanks a lot',\n 'Your support is',\n 'Grateful for your',\n 'Much obliged',\n 'Thanks a bunch',\n \"I'm thankful\",\n 'Kudos to you',\n 'Big thank you',\n 'Thanks for being',\n 'Appreciate your',\n 'Thank you for',\n 'Your help is',\n 'Thanks for always',\n \"I'm grateful\",\n 'Thank you for',\n 'Appreciate all',\n 'Thanks for going',\n 'Your assistance']"
     },
     "execution_count": 6,
     "metadata": {},
     "output_type": "execute_result"
    }
   ],
   "source": [
    "#! pip install dotenv langchain_openai\n",
    "from interactigen import Interactigen\n",
    "from dotenv import load_dotenv\n",
    "from langchain_openai import ChatOpenAI\n",
    "\n",
    "load_dotenv(dotenv_path='../scratch/dev.env')\n",
    "\n",
    "model = ChatOpenAI(model=\"gpt-3.5-turbo-0125\")\n",
    "\n",
    "interactigen = Interactigen(\n",
    "    model=model,\n",
    ")\n",
    "\n",
    "phrase_utterances = interactigen.generate_phrase_utterances(\n",
    "    base_phrase=\"someone might express appreciation to a bot\",\n",
    "    init_quantity=20,\n",
    "    lc_project='20240229-gen-phrasing-r1-openai-gpt-3.5-turbo-0125'\n",
    ")\n",
    "\n",
    "phrase_utterances"
   ],
   "metadata": {
    "collapsed": false,
    "ExecuteTime": {
     "end_time": "2024-02-29T17:16:32.605157Z",
     "start_time": "2024-02-29T17:15:53.149355Z"
    }
   },
   "id": "72d65ded71ce10d5",
   "execution_count": 6
  },
  {
   "cell_type": "markdown",
   "source": [
    "## Generate Phrase Utterances with Google Generative AI\n",
    "\n",
    "Here is an example loading the Google Generative AI gemini-pro model for generating the utterances.\n",
    "\n",
    "Make sure you have an environment file with the path *scratch/dev.env* and set the GOOGLE_API_KEY and (optionally) LANGCHAIN_API_KEY and LANGCHAIN_PROJECT if you are tracing with LangSmith:\n",
    "```scratch/dev.env:\n",
    "GOOGLE_API_KEY=<Google Generative AI API Key>\n",
    "LANGCHAIN_API_KEY=<LangSmith API Key>\n",
    "LANGCHAIN_PROJECT=<LangSmith Project Name>\n",
    "```"
   ],
   "metadata": {
    "collapsed": false
   },
   "id": "da6165e54af6c4cb"
  },
  {
   "cell_type": "code",
   "outputs": [
    {
     "data": {
      "text/plain": "['Thank you so much for your help, I really appreciate it!',\n \"I'm so grateful for your assistance.\",\n \"You've been such a great help, I can't thank you enough.\",\n \"Your help has been invaluable, I'm very appreciative.\",\n \"I'm so glad I reached out to you, you've been so helpful.\",\n 'Thank you for your time and patience, I appreciate your help very much.',\n 'I really appreciate you taking the time to help me.',\n 'Your help has been essential in solving my problem, thank you so much.',\n \"I'm so grateful for your assistance, thank you for going above and beyond.\",\n \"You've been a lifesaver, I'm so appreciative of your help.\",\n \"I'm very impressed with your knowledge and helpfulness, thank you.\",\n \"You've been so patient and understanding, I really appreciate it.\",\n \"I'm so glad I contacted you, your help has been invaluable.\",\n \"Thank you for your help, I couldn't have done it without you.\",\n \"I'm so grateful for your assistance, you've made a big difference.\",\n \"You've been so helpful, I really appreciate your time and effort.\",\n \"I'm very impressed with your professionalism and helpfulness, thank you.\",\n \"You've been a great help, I'm so thankful for your assistance.\",\n \"I'm so glad I reached out to you, your help has been essential.\",\n \"I really appreciate your help, you've saved me a lot of time and effort.\",\n 'Thanks for helping!',\n 'Grateful for help.',\n 'Appreciate help.',\n 'Essential help.',\n 'Glad I called.',\n 'Thanks for time.',\n 'Appreciate help.',\n 'Essential help.',\n 'Above and beyond help.',\n 'Lifesaver help.',\n 'Knowledgeable help.',\n 'Patient help.',\n 'Invaluable help.',\n \"Couldn't do it without you.\",\n 'Big difference help.',\n 'Appreciate time.',\n 'Professional help.',\n 'Great help.',\n 'Essential help.',\n 'Saved time help.',\n 'Thank you.',\n 'So helpful.',\n 'Appreciate it.',\n 'Grateful.',\n 'Great help.',\n 'Made a difference.',\n 'Saved me time.',\n 'Lifesaver.',\n 'I appreciate it so much for your help, thank you.',\n \"I'm grateful so for your assistance.\",\n \"You've been such a great help, I appreciate it so.\",\n \"Your help has been invaluable, I'm very appreciative.\",\n \"I'm so glad I reached out to you, you've been so helpful.\",\n 'Thank you for your time and patience, I very much appreciate your help.',\n 'I really appreciate you taking the time to help me.',\n 'Your help has been essential in my problem solving, thank you so much.',\n \"I'm so grateful for your assistance, thank you for going above and beyond.\",\n \"You've been a lifesaver, I'm so appreciative of your help.\",\n \"I'm very impressed with your knowledge and helpfulness, thank you.\",\n \"You've been so patient and understanding, I really appreciate it.\",\n \"I'm so glad I contacted you, your help has been invaluable.\",\n \"Thank you for your help, I couldn't have done it without you.\",\n \"I'm so grateful for your assistance, you've made a big difference.\",\n \"You've been so helpful, I really appreciate your time and effort.\",\n \"I'm very impressed with your professionalism and helpfulness, thank you.\",\n \"You've been a great help, I'm so thankful for your assistance.\",\n \"I'm so glad I reached out to you, your help has been essential.\",\n \"I really appreciate your help, you've saved me a lot of time and effort.\",\n 'Thanks for help!',\n 'Grateful for help.',\n 'Appreciate help.',\n 'Essential help.',\n 'Glad I called.',\n 'Thanks for time.',\n 'Appreciate help.',\n 'Essential help.',\n 'Above and beyond help.',\n 'Lifesaver help.',\n 'Knowledgeable help.',\n 'Patient help.',\n 'Invaluable help.',\n \"Couldn't do it without you.\",\n 'Big difference help.',\n 'Appreciate time.',\n 'Professional help.',\n 'Great help.',\n 'Essential help.',\n 'Saved time help.',\n 'Thank you.',\n 'So helpful.',\n 'Appreciate it.',\n 'Grateful.',\n 'Great help.',\n 'Made a difference.',\n 'Saved me time.',\n 'Lifesaver.',\n 'Thank you so much for your assistance, I really appreciate it!',\n \"I'm so grateful for your support.\",\n \"You've been such a great help, I can't thank you enough.\",\n \"Your assistance has been invaluable, I'm very appreciative.\",\n \"I'm so glad I reached out to you, you've been so helpful.\",\n 'Thank you for your time and patience, I appreciate your help very much.',\n 'I really appreciate you taking the time to assist me.',\n 'Your help has been essential in solving my problem, thank you so much.',\n \"I'm so grateful for your aid, thank you for going above and beyond.\",\n \"You've been a lifesaver, I'm so appreciative of your help.\",\n \"I'm very impressed with your knowledge and helpfulness, thank you.\",\n \"You've been so patient and understanding, I really appreciate it.\",\n \"I'm so glad I contacted you, your help has been invaluable.\",\n \"Thank you for your help, I couldn't have done it without you.\",\n \"I'm so grateful for your assistance, you've made a big difference.\",\n \"You've been so helpful, I really appreciate your time and effort.\",\n \"I'm very impressed with your professionalism and helpfulness, thank you.\",\n \"You've been a great help, I'm so thankful for your assistance.\",\n \"I'm so glad I reached out to you, your help has been essential.\",\n \"I really appreciate your help, you've saved me a lot of time and effort.\",\n 'Thanks for helping!',\n 'Grateful for support.',\n 'Appreciate assistance.',\n 'Essential aid.',\n 'Glad I called.',\n 'Thanks for time.',\n 'Appreciate support.',\n 'Essential aid.',\n 'Above and beyond assistance.',\n 'Lifesaver assistance.',\n 'Knowledgeable support.',\n 'Patient support.',\n 'Invaluable support.',\n \"Couldn't do it without you.\",\n 'Big difference assistance.',\n 'Appreciate time.',\n 'Professional support.',\n 'Great assistance.',\n 'Essential support.',\n 'Saved time support.',\n 'Thank you.',\n 'So helpful.',\n 'Appreciate it.',\n 'Grateful.',\n 'Great support.',\n 'Made a difference.',\n 'Saved me time.',\n 'Lifesaver.',\n 'Thank you so much for your help, I really appreciate it!',\n \"I'm so grateful for your assistance.\",\n \"You've been such a great help, I can't thank you enough.\",\n \"Your help has been invaluable, I'm very appreciative.\",\n \"I'm so glad I reached out to you, you've been so helpful.\",\n 'Thank you for your time and patience, I appreciate your help very much.',\n 'I really appreciate you talking the time to help me.',\n 'Your help has been essential in solving my problem, thank you so much.',\n \"I'm so grateful for your assistance, thank you for going above and beyond.\",\n \"You've been a life saver, I'm so appreciative of your help.\",\n \"I'm very impressed with your knowledge and helpfulness, thank you.\",\n \"You've been so patient and understanding, I really appreciate it.\",\n \"I'm so glad I contacted you, your help has been invaluable.\",\n \"Thank you for your help, I couldn't have done it without you.\",\n \"I'm so grateful for your assistance, you've made a big difference.\",\n \"You've been so helpful, I really appreciate your time and effort.\",\n \"I'm very impressed with your professionalism and helpfulness, thank you.\",\n \"You've been a great help, I'm so thankful for your assistance.\",\n \"I'm so glad I reached out to you, your help has been essential.\",\n \"I really appreciate your help, you've saved me a lot of time and effort.\",\n 'Tanks for helping!',\n 'Greatful for help.',\n 'Appreshate help.',\n 'Essenshel help.',\n 'Glat I called.',\n 'Tanks for time.',\n 'Appreshate help.',\n 'Essenshel help.',\n 'Above and beyond help.',\n 'Lifesaver help.',\n 'Knowledgable help.',\n 'Patient help.',\n 'Invaluable help.',\n \"Couldn't do it withoutch you.\",\n 'Big differents help.',\n 'Appreshate time.',\n 'Profeshional help.',\n 'Great help.',\n 'Essenshel help.',\n 'Saved time help.',\n 'Thank you.',\n 'Sew helpful.',\n 'Appreshiate it.',\n 'Grateful.',\n 'Great help.',\n 'Made a differents.',\n 'Saved me time.',\n 'Lifesaver.']"
     },
     "execution_count": 7,
     "metadata": {},
     "output_type": "execute_result"
    }
   ],
   "source": [
    "#! pip install dotenv langchain_google_genai\n",
    "from interactigen import Interactigen\n",
    "from dotenv import load_dotenv\n",
    "from langchain_google_genai import ChatGoogleGenerativeAI\n",
    "\n",
    "load_dotenv(dotenv_path='../scratch/dev.env')\n",
    "\n",
    "model = ChatGoogleGenerativeAI(model=\"gemini-pro\", convert_system_message_to_human=True)\n",
    "\n",
    "interactigen = Interactigen(\n",
    "    model=model,\n",
    ")\n",
    "\n",
    "phrase_utterances = interactigen.generate_phrase_utterances(\n",
    "    base_phrase=\"someone might express appreciation to a bot\",\n",
    "    init_quantity=20,\n",
    "    lc_project='20240229-gen-phrasing-r1-google-gemini-pro'\n",
    ")\n",
    "\n",
    "phrase_utterances"
   ],
   "metadata": {
    "collapsed": false,
    "ExecuteTime": {
     "end_time": "2024-02-29T17:17:19.775807Z",
     "start_time": "2024-02-29T17:16:42.547629Z"
    }
   },
   "id": "8326ec837b614d73",
   "execution_count": 7
  }
 ],
 "metadata": {
  "kernelspec": {
   "display_name": "Python 3",
   "language": "python",
   "name": "python3"
  },
  "language_info": {
   "codemirror_mode": {
    "name": "ipython",
    "version": 2
   },
   "file_extension": ".py",
   "mimetype": "text/x-python",
   "name": "python",
   "nbconvert_exporter": "python",
   "pygments_lexer": "ipython2",
   "version": "2.7.6"
  }
 },
 "nbformat": 4,
 "nbformat_minor": 5
}
